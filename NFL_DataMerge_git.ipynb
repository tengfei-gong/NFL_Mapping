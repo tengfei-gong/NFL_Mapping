{
 "cells": [
  {
   "cell_type": "code",
   "execution_count": 15,
   "id": "11b6bdba",
   "metadata": {},
   "outputs": [],
   "source": [
    "from bs4 import BeautifulSoup\n",
    "import numpy as np\n",
    "import requests\n",
    "import re\n",
    "import pandas as pd\n",
    "from selenium import webdriver\n",
    "from selenium.common.exceptions import TimeoutException\n",
    "import os\n",
    "import time\n",
    "import unidecode\n",
    "\n",
    "from numpy import array\n",
    "from numpy import argmax\n",
    "from sklearn.preprocessing import StandardScaler\n",
    "from sklearn.preprocessing import LabelEncoder\n",
    "from sklearn.preprocessing import OneHotEncoder\n",
    "from sklearn.ensemble import RandomForestClassifier\n",
    "from sklearn import svm\n",
    "from sklearn.metrics import accuracy_score\n",
    "from sklearn.metrics import mean_squared_error\n",
    "from sklearn.neural_network import MLPClassifier\n",
    "from sklearn.ensemble import GradientBoostingClassifier\n",
    "from sklearn.model_selection import GridSearchCV, cross_val_score\n",
    "import math\n",
    "import operator\n",
    "import warnings\n",
    "warnings.filterwarnings('ignore')\n",
    "import random\n",
    "\n",
    "import requests\n",
    "from requests.structures import CaseInsensitiveDict\n",
    "import json"
   ]
  },
  {
   "cell_type": "code",
   "execution_count": null,
   "id": "1f58e68f",
   "metadata": {},
   "outputs": [],
   "source": []
  },
  {
   "cell_type": "code",
   "execution_count": null,
   "id": "7adba330",
   "metadata": {},
   "outputs": [],
   "source": [
    "os.environ['KMP_DUPLICATE_LIB_OK'] = 'True'\n",
    "from keras.layers import Activation, Dense\n",
    "from tensorflow.keras.optimizers import SGD\n",
    "from keras.models import Sequential\n",
    "from keras.layers import Dropout\n",
    "\n",
    "from keras.wrappers.scikit_learn import KerasClassifier\n",
    "from keras.models import Sequential\n",
    "from keras.layers import Dense, Activation, Dropout"
   ]
  },
  {
   "cell_type": "code",
   "execution_count": null,
   "id": "000c97f9",
   "metadata": {},
   "outputs": [],
   "source": []
  },
  {
   "cell_type": "markdown",
   "id": "c43f890c",
   "metadata": {},
   "source": [
    "# NFL MERGING"
   ]
  },
  {
   "cell_type": "code",
   "execution_count": 16,
   "id": "7a0d4814",
   "metadata": {},
   "outputs": [],
   "source": [
    "off_PBP_partic = pd.read_csv(\"PBP Data/off_participatio_pbp.csv\", index_col = False)"
   ]
  },
  {
   "cell_type": "markdown",
   "id": "7828537d",
   "metadata": {},
   "source": [
    "<h3> Map Passing <h3>"
   ]
  },
  {
   "cell_type": "code",
   "execution_count": 19,
   "id": "c8c55599",
   "metadata": {},
   "outputs": [],
   "source": [
    "mappingTable = pd.read_csv(\"mappingTable.csv\", index_col = False)\n",
    "passing_pbp = pd.read_csv(\"PBP Data/passing_pbp2021.csv\", index_col = False)\n",
    "#passing_pbp = pd.read_csv(\"PBP Data/passing_pbp.csv\", index_col = False)\n",
    "roster = pd.read_csv(\"roster.csv\", index_col = False)\n",
    "#roster = roster[roster['season'] == 2020].reset_index(drop = False)\n",
    "roster['playerName'] = roster['firstName'] + \" \" + roster['lastName']\n",
    "\n",
    "roster = pd.read_csv(\"roster.csv\", index_col = False)\n",
    "#roster = roster[roster['season'] == 2020].reset_index(drop = False)\n",
    "roster['playerName'] = roster['firstName'] + \" \" + roster['lastName']\n",
    "\n",
    "#roster.to_csv(\"Positions.csv\", index = False)\n",
    "\n",
    "# actionType mapping\n",
    "statMapping = mappingTable[mappingTable['Stat'] == 'ActionType'] #1\n",
    "passing_pbp_map = pd.merge(passing_pbp, statMapping, left_on = ['actionType'],  #2\n",
    "                          right_on=['Code'], how = 'left')\n",
    "passing_pbp_map = passing_pbp_map.drop(['Stat','Code'], axis = 1)\n",
    "passing_pbp_map = passing_pbp_map.rename(columns={'descr' : 'ActionType_descr'}) #3\n",
    "\n",
    "\n",
    "#throwType mapping\n",
    "\n",
    "throwTypeMapping = mappingTable[mappingTable['Stat'] == 'ThrowType']\n",
    "passing_pbp_map = pd.merge(passing_pbp_map, throwTypeMapping, left_on = ['throwType'], \n",
    "                          right_on=['Code'], how = 'left')\n",
    "passing_pbp_map = passing_pbp_map.drop(['Stat','Code'], axis = 1)\n",
    "passing_pbp_map = passing_pbp_map.rename(columns={'descr' : 'ThrowType_descr'})\n",
    "\n",
    "\n",
    "#throwDirection mapping\n",
    "throwDirectionMapping = mappingTable[mappingTable['Stat'] == 'ThrowDirection']\n",
    "passing_pbp_map = pd.merge(passing_pbp_map, throwDirectionMapping, left_on = ['throwDirection'], \n",
    "                          right_on=['Code'], how = 'left')\n",
    "passing_pbp_map = passing_pbp_map.drop(['Stat','Code'], axis = 1)\n",
    "passing_pbp_map = passing_pbp_map.rename(columns={'descr' : 'ThrowDirection_descr'})\n",
    "\n",
    "\n",
    "#throwAccuracy mapping\n",
    "throwAccuracyMapping = mappingTable[mappingTable['Stat'] == 'ThrowAccuracy'] #1 #2\n",
    "passing_pbp_map = pd.merge(passing_pbp_map, throwAccuracyMapping, left_on = ['throwAccuracy'],  #3 #4\n",
    "                          right_on=['Code'], how = 'left')\n",
    "passing_pbp_map = passing_pbp_map.drop(['Stat','Code'], axis = 1)\n",
    "passing_pbp_map = passing_pbp_map.rename(columns={'descr' : 'ThrowAccuracy_descr'}) #5\n",
    "\n",
    "\n",
    "#scoreType mapping\n",
    "statMapping = mappingTable[mappingTable['Stat'] == 'ScoringType'] #1\n",
    "passing_pbp_map = pd.merge(passing_pbp_map, statMapping, left_on = ['scoreType'],  #2\n",
    "                          right_on=['Code'], how = 'left')\n",
    "passing_pbp_map = passing_pbp_map.drop(['Stat','Code'], axis = 1)\n",
    "passing_pbp_map = passing_pbp_map.rename(columns={'descr' : 'ScoreType_descr'}) #3\n",
    "\n",
    "\n",
    "#dropType mapping\n",
    "statMapping = mappingTable[mappingTable['Stat'] == 'DropType'] #1\n",
    "passing_pbp_map = pd.merge(passing_pbp_map, statMapping, left_on = ['dropType'],  #2\n",
    "                          right_on=['Code'], how = 'left')\n",
    "passing_pbp_map = passing_pbp_map.drop(['Stat','Code'], axis = 1)\n",
    "passing_pbp_map = passing_pbp_map.rename(columns={'descr' : 'DropType_descr'}) #3\n",
    "\n",
    "\n",
    "#atPassType mapping\n",
    "statMapping = mappingTable[mappingTable['Stat'] == 'QBAtPass'] #1\n",
    "passing_pbp_map = pd.merge(passing_pbp_map, statMapping, left_on = ['qbAtPassType'],  #2\n",
    "                          right_on=['Code'], how = 'left')\n",
    "passing_pbp_map = passing_pbp_map.drop(['Stat','Code'], axis = 1)\n",
    "passing_pbp_map = passing_pbp_map.rename(columns={'descr' : 'AtPass_descr'}) #3"
   ]
  },
  {
   "cell_type": "code",
   "execution_count": 20,
   "id": "02096210",
   "metadata": {},
   "outputs": [],
   "source": [
    "dropBack = []\n",
    "for i in range(len(passing_pbp_map)):\n",
    "    if (passing_pbp_map['dropType'][i] == 1) |(passing_pbp_map['dropType'][i] == 2) | (passing_pbp_map['dropType'][i] == 3) | (passing_pbp_map['dropType'][i] == 4):\n",
    "        dropBack.append(1)\n",
    "    else:\n",
    "        dropBack.append(0)\n",
    "passing_pbp_map['dropBack'] = dropBack\n",
    "        "
   ]
  },
  {
   "cell_type": "code",
   "execution_count": 21,
   "id": "92bed381",
   "metadata": {},
   "outputs": [],
   "source": [
    "# Player name mapping\n",
    "passing_pbp_map = pd.merge(passing_pbp_map, roster[['playerId', 'positionCategory', 'playerName']], left_on = ['playerId'],  #2\n",
    "                          right_on=['playerId'], how = 'left')\n",
    "\n"
   ]
  },
  {
   "cell_type": "code",
   "execution_count": null,
   "id": "b84ba225",
   "metadata": {},
   "outputs": [],
   "source": []
  },
  {
   "cell_type": "code",
   "execution_count": null,
   "id": "36df055f",
   "metadata": {},
   "outputs": [],
   "source": []
  },
  {
   "cell_type": "markdown",
   "id": "414a5113",
   "metadata": {},
   "source": [
    "<h3> Map Receiving <h3>"
   ]
  },
  {
   "cell_type": "code",
   "execution_count": 23,
   "id": "888969f8",
   "metadata": {},
   "outputs": [],
   "source": [
    "mappingTable = pd.read_csv(\"mappingTable.csv\", index_col = False)\n",
    "receiving_pbp = pd.read_csv(\"PBP Data/receiving_pbp2021.csv\", index_col = False)\n",
    "#receiving_pbp = pd.read_csv(\"PBP Data/receiving_pbp.csv\", index_col = False)"
   ]
  },
  {
   "cell_type": "code",
   "execution_count": 24,
   "id": "a0ce55f9",
   "metadata": {},
   "outputs": [],
   "source": [
    "# actionType mapping\n",
    "statMapping = mappingTable[mappingTable['Stat'] == 'ActionType'] #1\n",
    "receiving_pbp_map = pd.merge(receiving_pbp, statMapping, left_on = ['actionType'],  #2\n",
    "                          right_on=['Code'], how = 'left')\n",
    "receiving_pbp_map = receiving_pbp_map.drop(['Stat','Code'], axis = 1)\n",
    "receiving_pbp_map = receiving_pbp_map.rename(columns={'descr' : 'ActionType_descr'}) #3\n",
    "\n",
    "# targetType mapping\n",
    "statMapping = mappingTable[mappingTable['Stat'] == 'TargetTypes'] #1\n",
    "receiving_pbp_map = pd.merge(receiving_pbp_map, statMapping, left_on = ['targetType'],  #2\n",
    "                          right_on=['Code'], how = 'left')\n",
    "receiving_pbp_map = receiving_pbp_map.drop(['Stat','Code'], axis = 1)\n",
    "receiving_pbp_map = receiving_pbp_map.rename(columns={'descr' : 'TargetType_descr'}) #3\n",
    "\n",
    "# scoreType mapping\n",
    "statMapping = mappingTable[mappingTable['Stat'] == 'ScoringType'] #1\n",
    "receiving_pbp_map = pd.merge(receiving_pbp_map, statMapping, left_on = ['scoreType'],  #2\n",
    "                          right_on=['Code'], how = 'left')\n",
    "receiving_pbp_map = receiving_pbp_map.drop(['Stat','Code'], axis = 1)\n",
    "receiving_pbp_map = receiving_pbp_map.rename(columns={'descr' : 'ScoreType_descr'}) #3\n",
    "\n",
    "# TargetLinedUp mapping\n",
    "statMapping = mappingTable[mappingTable['Stat'] == 'TargetLinedUp'] #1\n",
    "receiving_pbp_map = pd.merge(receiving_pbp_map, statMapping, left_on = ['targetLinedUp'],  #2\n",
    "                          right_on=['Code'], how = 'left')\n",
    "receiving_pbp_map = receiving_pbp_map.drop(['Stat','Code'], axis = 1)\n",
    "receiving_pbp_map = receiving_pbp_map.rename(columns={'descr' : 'TargetLinedUp_descr'}) #3\n",
    "\n",
    "# Target direction missing"
   ]
  },
  {
   "cell_type": "code",
   "execution_count": 25,
   "id": "e94623b9",
   "metadata": {},
   "outputs": [],
   "source": [
    "# Add player name\n",
    "\n",
    "receiving_pbp_map = pd.merge(receiving_pbp_map, roster[['playerId', 'positionCategory', 'playerName']], left_on = ['playerId'],  #2\n",
    "                          right_on=['playerId'], how = 'left')\n",
    "\n"
   ]
  },
  {
   "cell_type": "code",
   "execution_count": 26,
   "id": "10229565",
   "metadata": {},
   "outputs": [],
   "source": [
    "# Route type mapping from QB to the intended receiver.\n",
    "passing_pbp_map = pd.merge(passing_pbp_map, receiving_pbp_map[['season','week','gameId','eventId','playerId', 'targetType','TargetType_descr']], \n",
    "                           left_on = ['season','week','gameId','eventId','intendedReceiverId'],  #2\n",
    "                          right_on=['season','week','gameId','eventId','playerId'], how = 'left')\n",
    "\n",
    "passing_pbp_map = passing_pbp_map.drop(columns = ['playerId_y'])\n",
    "passing_pbp_map = passing_pbp_map.rename(columns={'playerId_x' : 'playerId'})\n"
   ]
  },
  {
   "cell_type": "markdown",
   "id": "bb282430",
   "metadata": {},
   "source": [
    "<h3> Map Rushing <h3>"
   ]
  },
  {
   "cell_type": "code",
   "execution_count": 27,
   "id": "eec18803",
   "metadata": {},
   "outputs": [],
   "source": [
    "# Mapping starts rushing\n",
    "mappingTable = pd.read_csv(\"mappingTable.csv\", index_col = False)\n",
    "rushing_pbp = pd.read_csv(\"PBP Data/rushing_pbp2021.csv\", index_col = False)\n",
    "#rushing_pbp = pd.read_csv(\"PBP Data/rushing_pbp.csv\", index_col = False)"
   ]
  },
  {
   "cell_type": "code",
   "execution_count": 28,
   "id": "683579e0",
   "metadata": {},
   "outputs": [],
   "source": [
    "# actionType mapping\n",
    "statMapping = mappingTable[mappingTable['Stat'] == 'ActionType'] #1\n",
    "rushing_pbp_map = pd.merge(rushing_pbp, statMapping, left_on = ['actionType'],  #2\n",
    "                          right_on=['Code'], how = 'left')\n",
    "rushing_pbp_map = rushing_pbp_map.drop(['Stat','Code'], axis = 1)\n",
    "rushing_pbp_map = rushing_pbp_map.rename(columns={'descr' : 'ActionType_descr'}) #3\n",
    "\n",
    "# runType mapping\n",
    "statMapping = mappingTable[mappingTable['Stat'] == 'RunType'] #1\n",
    "rushing_pbp_map = pd.merge(rushing_pbp_map, statMapping, left_on = ['runType'],  #2\n",
    "                          right_on=['Code'], how = 'left')\n",
    "rushing_pbp_map = rushing_pbp_map.drop(['Stat','Code'], axis = 1)\n",
    "rushing_pbp_map = rushing_pbp_map.rename(columns={'descr' : 'RunType_descr'}) #3\n",
    "\n",
    "# runDirection mapping\n",
    "statMapping = mappingTable[mappingTable['Stat'] == 'RunDirection'] #1\n",
    "rushing_pbp_map = pd.merge(rushing_pbp_map, statMapping, left_on = ['runDirection'],  #2\n",
    "                          right_on=['Code'], how = 'left')\n",
    "rushing_pbp_map = rushing_pbp_map.drop(['Stat','Code'], axis = 1)\n",
    "rushing_pbp_map = rushing_pbp_map.rename(columns={'descr' : 'RunDirection_descr'}) #3\n",
    "\n",
    "# scoreType mapping\n",
    "statMapping = mappingTable[mappingTable['Stat'] == 'ScoringType'] #1\n",
    "rushing_pbp_map = pd.merge(rushing_pbp_map, statMapping, left_on = ['scoreType'],  #2\n",
    "                          right_on=['Code'], how = 'left')\n",
    "rushing_pbp_map = rushing_pbp_map.drop(['Stat','Code'], axis = 1)\n",
    "rushing_pbp_map = rushing_pbp_map.rename(columns={'descr' : 'ScoreType_descr'}) #3\n",
    "\n",
    "# actualRunDirection mapping\n",
    "statMapping = mappingTable[mappingTable['Stat'] == 'RunDirection'] #1\n",
    "rushing_pbp_map = pd.merge(rushing_pbp_map, statMapping, left_on = ['actualRunDirection'],  #2\n",
    "                          right_on=['Code'], how = 'left')\n",
    "rushing_pbp_map = rushing_pbp_map.drop(['Stat','Code'], axis = 1)\n",
    "rushing_pbp_map = rushing_pbp_map.rename(columns={'descr' : 'ActualRunDirection_descr'}) #3\n",
    "\n",
    "# qbDropType mapping \n",
    "statMapping = mappingTable[mappingTable['Stat'] == 'DropType'] #1\n",
    "rushing_pbp_map = pd.merge(rushing_pbp_map, statMapping, left_on = ['qbDropType'],  #2\n",
    "                          right_on=['Code'], how = 'left')\n",
    "rushing_pbp_map = rushing_pbp_map.drop(['Stat','Code'], axis = 1)\n",
    "rushing_pbp_map = rushing_pbp_map.rename(columns={'descr' : 'qbDropType_descr'}) #3\n",
    "\n",
    "# blockingSchemeType mapping \n",
    "statMapping = mappingTable[mappingTable['Stat'] == 'blockingSchemeType'] #1\n",
    "rushing_pbp_map = pd.merge(rushing_pbp_map, statMapping, left_on = ['blockingSchemeType'],  #2\n",
    "                          right_on=['Code'], how = 'left')\n",
    "rushing_pbp_map = rushing_pbp_map.drop(['Stat','Code'], axis = 1)\n",
    "rushing_pbp_map = rushing_pbp_map.rename(columns={'descr' : 'blockingSchemeType_descr'}) #3"
   ]
  },
  {
   "cell_type": "code",
   "execution_count": 29,
   "id": "5aae292b",
   "metadata": {},
   "outputs": [],
   "source": [
    "# Add player name\n",
    "\n",
    "rushing_pbp_map = pd.merge(rushing_pbp_map, roster[['playerId', 'positionCategory', 'playerName']], left_on = ['playerId'],  #2\n",
    "                          right_on=['playerId'], how = 'left')\n",
    "\n"
   ]
  },
  {
   "cell_type": "code",
   "execution_count": 916,
   "id": "af78c532",
   "metadata": {},
   "outputs": [],
   "source": []
  },
  {
   "cell_type": "code",
   "execution_count": null,
   "id": "5fe54b51",
   "metadata": {},
   "outputs": [],
   "source": []
  },
  {
   "cell_type": "code",
   "execution_count": null,
   "id": "aa647898",
   "metadata": {},
   "outputs": [],
   "source": []
  },
  {
   "cell_type": "markdown",
   "id": "75dd6efe",
   "metadata": {},
   "source": [
    "<h3> Map presnap defense <h3>"
   ]
  },
  {
   "cell_type": "code",
   "execution_count": 30,
   "id": "a089a413",
   "metadata": {},
   "outputs": [],
   "source": [
    "mappingTable = pd.read_csv(\"mappingTable.csv\", index_col = False)\n",
    "presnapDefense_pbp = pd.read_csv(\"PBP Data/preSnapDefense_pbp2021.csv\", index_col = False)\n",
    "\n",
    "#presnapDefense_pbp = pd.read_csv(\"PBP Data/preSnapDefense_pbp2020.csv\", index_col = False)"
   ]
  },
  {
   "cell_type": "code",
   "execution_count": 31,
   "id": "a625cdf4",
   "metadata": {},
   "outputs": [],
   "source": [
    "# CoverageType mapping\n",
    "statMapping = mappingTable[mappingTable['Stat'] == 'CoverageType'] #1\n",
    "presnapDefense_pbp_map = pd.merge(presnapDefense_pbp, statMapping, left_on = ['coverageSchemeType'],  #2\n",
    "                          right_on=['Code'], how = 'left')\n",
    "presnapDefense_pbp_map = presnapDefense_pbp_map.drop(['Stat','Code'], axis = 1)\n",
    "presnapDefense_pbp_map = presnapDefense_pbp_map.rename(columns={'descr' : 'CoverageType_descr'}) #3"
   ]
  },
  {
   "cell_type": "code",
   "execution_count": 32,
   "id": "bfc019b9",
   "metadata": {},
   "outputs": [],
   "source": [
    "# Load mapping for type 1 and type 3\n",
    "\n",
    "cover1 = [16, 17, 18, 19]\n",
    "cover2 = [20]\n",
    "cover3 = [21, 22, 23, 24, 25, 26, 27, 28]\n",
    "\n",
    "CoverageType_descr_tmp = []\n",
    "\n",
    "for i in range(len(presnapDefense_pbp_map)):\n",
    "    \n",
    "    if presnapDefense_pbp_map['coverageSchemeType'][i] in cover1:\n",
    "        CoverageType_descr_tmp.append(\"Cover 1\")\n",
    "        \n",
    "    elif presnapDefense_pbp_map['coverageSchemeType'][i] in cover2:\n",
    "        CoverageType_descr_tmp.append(\"Cover 2\")\n",
    "        \n",
    "    elif presnapDefense_pbp_map['coverageSchemeType'][i] in cover3:\n",
    "        CoverageType_descr_tmp.append(\"Cover 3\")\n",
    "    elif presnapDefense_pbp_map['coverageSchemeType'][i] in cover3:\n",
    "        CoverageType_descr_tmp.append(\"Cover 6\")\n",
    "    else:\n",
    "        CoverageType_descr_tmp.append(presnapDefense_pbp_map['CoverageType_descr'][i])\n",
    "    \n",
    "\n",
    "presnapDefense_pbp_map['CoverageType_descr'] = CoverageType_descr_tmp"
   ]
  },
  {
   "cell_type": "code",
   "execution_count": 33,
   "id": "9b95f50e",
   "metadata": {},
   "outputs": [],
   "source": [
    "#Coverage type pooling\n",
    "\n",
    "CoverageType_pooled = []\n",
    "\n",
    "for i in range(len(presnapDefense_pbp_map)):\n",
    "    if presnapDefense_pbp_map['CoverageType_descr'][i] in ['Cover 0', 'Cover 1', 'Cover 2', 'Man Cover 2']:\n",
    "        CoverageType_pooled.append(\"Man\")\n",
    "    elif presnapDefense_pbp_map['CoverageType_descr'][i] in ['Cover 3','Cover 4', 'Cover 6']:\n",
    "        CoverageType_pooled.append(\"Zone\")\n",
    "    else:\n",
    "        CoverageType_pooled.append(\"Other\")\n",
    "    \n",
    "presnapDefense_pbp_map['CoverageType_pooled'] = CoverageType_pooled\n",
    "    \n",
    "#'Cover 0', 'Cover 1', 'Cover 2'\n",
    "\n",
    "\n",
    "#cover 0, cover 1, man cover 2\n",
    "#is Man\n",
    "\n",
    "#the others that are numbered\n",
    "#are zone\n",
    "\n"
   ]
  },
  {
   "cell_type": "code",
   "execution_count": null,
   "id": "2e30250a",
   "metadata": {},
   "outputs": [],
   "source": []
  },
  {
   "cell_type": "code",
   "execution_count": null,
   "id": "1897fab3",
   "metadata": {},
   "outputs": [],
   "source": []
  },
  {
   "cell_type": "markdown",
   "id": "ddc1a8a7",
   "metadata": {},
   "source": [
    "<h5> Team ID Table (from def participation) <h5>"
   ]
  },
  {
   "cell_type": "code",
   "execution_count": 35,
   "id": "74f92481",
   "metadata": {},
   "outputs": [],
   "source": [
    "teamNameMapping = pd.read_csv(\"teamNameMapping.csv\", index_col = False)\n",
    "teamNameMapping = teamNameMapping[['teamId', 'nickName']]"
   ]
  },
  {
   "cell_type": "code",
   "execution_count": null,
   "id": "7f82c6ac",
   "metadata": {},
   "outputs": [],
   "source": []
  },
  {
   "cell_type": "markdown",
   "id": "1790ce43",
   "metadata": {},
   "source": [
    "<h5> Load Pre Snap Mapping <h5>"
   ]
  },
  {
   "cell_type": "code",
   "execution_count": 36,
   "id": "f9e06dac",
   "metadata": {},
   "outputs": [],
   "source": [
    "preSnapDefense = pd.read_csv(\"PBP Data/preSnapDefense_pbp2021.csv\", index_col = False)\n",
    "#preSnapDefense = pd.read_csv(\"PBP Data/preSnapDefense_pbp2020.csv\", index_col = False)\n",
    "preSnapDefenseTeam = preSnapDefense[['season', 'week', 'gameId','teamId']].drop_duplicates()\n",
    "\n",
    "preSnapDefenseTeam = preSnapDefenseTeam.rename(columns={'teamId' : 'oppTeamId'})\n",
    "#teamNameMapping = teamNameMapping[['teamId', 'gsisid']]"
   ]
  },
  {
   "cell_type": "code",
   "execution_count": 37,
   "id": "2020e5bf",
   "metadata": {},
   "outputs": [],
   "source": [
    "# map team ID to team name\n",
    "preSnapDefenseTeam = pd.merge(preSnapDefenseTeam, teamNameMapping, left_on = ['oppTeamId'], \n",
    "                          right_on=['teamId'], how = 'left')"
   ]
  },
  {
   "cell_type": "code",
   "execution_count": null,
   "id": "e462a437",
   "metadata": {},
   "outputs": [],
   "source": []
  },
  {
   "cell_type": "code",
   "execution_count": null,
   "id": "cf7790fc",
   "metadata": {},
   "outputs": [],
   "source": []
  },
  {
   "cell_type": "markdown",
   "id": "caf08dfc",
   "metadata": {},
   "source": [
    "<h5> DepthChart <h5>"
   ]
  },
  {
   "cell_type": "code",
   "execution_count": 55,
   "id": "49afd9cd",
   "metadata": {},
   "outputs": [],
   "source": [
    "depthChartOffense = pd.read_csv(\"DepthChart/DepthChartOffense.csv\", index_col = False)\n",
    "depthChartDefense = pd.read_csv(\"DepthChart/DepthChartDefense.csv\", index_col = False)"
   ]
  },
  {
   "cell_type": "code",
   "execution_count": null,
   "id": "33a3341f",
   "metadata": {},
   "outputs": [],
   "source": []
  },
  {
   "cell_type": "code",
   "execution_count": null,
   "id": "0b350b12",
   "metadata": {},
   "outputs": [],
   "source": []
  },
  {
   "cell_type": "markdown",
   "id": "46940ea4",
   "metadata": {},
   "source": [
    "# Passing"
   ]
  },
  {
   "cell_type": "code",
   "execution_count": 56,
   "id": "e36d17fb",
   "metadata": {},
   "outputs": [],
   "source": [
    "# Merge passing with coverage types\n",
    "passing_pbp_coverage = pd.merge(passing_pbp_map, \n",
    "                                presnapDefense_pbp_map[['season', 'week', 'gameId', 'eventId', 'CoverageType_descr', 'CoverageType_pooled']], \n",
    "                                left_on = ['season', 'week', 'gameId', 'eventId'], \n",
    "                          right_on=['season', 'week', 'gameId', 'eventId'], how = 'left')\n"
   ]
  },
  {
   "cell_type": "code",
   "execution_count": 57,
   "id": "1ab64a63",
   "metadata": {},
   "outputs": [],
   "source": [
    "# Add FP_yards\n",
    "passing_pbp_coverage['FP_yards'] = passing_pbp_coverage['yards'] * 0.04\n",
    "\n",
    "# Add FP_TD\n",
    "FP_TD= []\n",
    "for i in range(len(passing_pbp_coverage)):\n",
    "    if passing_pbp_coverage['scoreType'][i] == 6:\n",
    "        FP_TD.append(4)\n",
    "    else:\n",
    "        FP_TD.append(0)\n",
    "passing_pbp_coverage['FP_TD'] = FP_TD\n",
    "\n",
    "# Add FP_intercept\n",
    "FP_intercept= []\n",
    "for i in range(len(passing_pbp_coverage)):\n",
    "    if passing_pbp_coverage['intercepted'][i] == False:\n",
    "        FP_intercept.append(0)\n",
    "    else: \n",
    "        FP_intercept.append(-1)\n",
    "passing_pbp_coverage['FP_intercept'] = FP_intercept\n",
    "\n",
    "# Add FP_total\n",
    "passing_pbp_coverage['FP_total'] = passing_pbp_coverage['FP_yards'] +  passing_pbp_coverage['FP_TD'] + passing_pbp_coverage['FP_intercept']\n",
    "\n"
   ]
  },
  {
   "cell_type": "code",
   "execution_count": 58,
   "id": "d9159f24",
   "metadata": {},
   "outputs": [],
   "source": [
    "# Derive dropbacks\n",
    "\n",
    "passing_pbp_coverage_DB = passing_pbp_coverage[(passing_pbp_coverage['actionType'] == 1) & (passing_pbp_coverage['dropBack'] == 1)].reset_index(drop=True)\n",
    "#passing_pbp_coverage_DB = passing_pbp_coverage[(passing_pbp_coverage['dropBack'] == 1)].reset_index(drop=True)\n",
    "\n"
   ]
  },
  {
   "cell_type": "code",
   "execution_count": 63,
   "id": "f05c4319",
   "metadata": {},
   "outputs": [
    {
     "ename": "KeyboardInterrupt",
     "evalue": "",
     "output_type": "error",
     "traceback": [
      "\u001b[0;31m---------------------------------------------------------------------------\u001b[0m",
      "\u001b[0;31mKeyboardInterrupt\u001b[0m                         Traceback (most recent call last)",
      "\u001b[0;32m<ipython-input-63-710765c2eeb0>\u001b[0m in \u001b[0;36m<module>\u001b[0;34m\u001b[0m\n\u001b[1;32m      7\u001b[0m     \u001b[0;32mfor\u001b[0m \u001b[0mj\u001b[0m \u001b[0;32min\u001b[0m \u001b[0mdepthChartOffense\u001b[0m\u001b[0;34m.\u001b[0m\u001b[0mcolumns\u001b[0m\u001b[0;34m:\u001b[0m\u001b[0;34m\u001b[0m\u001b[0;34m\u001b[0m\u001b[0m\n\u001b[1;32m      8\u001b[0m         \u001b[0;32mfor\u001b[0m \u001b[0mk\u001b[0m \u001b[0;32min\u001b[0m \u001b[0mrange\u001b[0m\u001b[0;34m(\u001b[0m\u001b[0mlen\u001b[0m\u001b[0;34m(\u001b[0m\u001b[0mdepthChartOffense\u001b[0m\u001b[0;34m)\u001b[0m\u001b[0;34m)\u001b[0m\u001b[0;34m:\u001b[0m\u001b[0;34m\u001b[0m\u001b[0;34m\u001b[0m\u001b[0m\n\u001b[0;32m----> 9\u001b[0;31m             \u001b[0;32mif\u001b[0m \u001b[0mpassing_pbp_coverage_DB\u001b[0m\u001b[0;34m[\u001b[0m\u001b[0;34m'playerName'\u001b[0m\u001b[0;34m]\u001b[0m\u001b[0;34m[\u001b[0m\u001b[0mi\u001b[0m\u001b[0;34m]\u001b[0m \u001b[0;34m==\u001b[0m \u001b[0mdepthChartOffense\u001b[0m\u001b[0;34m[\u001b[0m\u001b[0mj\u001b[0m\u001b[0;34m]\u001b[0m\u001b[0;34m[\u001b[0m\u001b[0mk\u001b[0m\u001b[0;34m]\u001b[0m\u001b[0;34m:\u001b[0m\u001b[0;34m\u001b[0m\u001b[0;34m\u001b[0m\u001b[0m\n\u001b[0m\u001b[1;32m     10\u001b[0m                 \u001b[0minDepthChart\u001b[0m \u001b[0;34m+=\u001b[0m \u001b[0;36m1\u001b[0m\u001b[0;34m\u001b[0m\u001b[0;34m\u001b[0m\u001b[0m\n\u001b[1;32m     11\u001b[0m                 \u001b[0mteam_tmp\u001b[0m \u001b[0;34m=\u001b[0m \u001b[0mj\u001b[0m\u001b[0;34m\u001b[0m\u001b[0;34m\u001b[0m\u001b[0m\n",
      "\u001b[0;32m~/opt/miniconda3/lib/python3.6/site-packages/pandas/core/frame.py\u001b[0m in \u001b[0;36m__getitem__\u001b[0;34m(self, key)\u001b[0m\n\u001b[1;32m   2876\u001b[0m                 \u001b[0;32mif\u001b[0m \u001b[0mself\u001b[0m\u001b[0;34m.\u001b[0m\u001b[0mcolumns\u001b[0m\u001b[0;34m.\u001b[0m\u001b[0mnlevels\u001b[0m \u001b[0;34m>\u001b[0m \u001b[0;36m1\u001b[0m\u001b[0;34m:\u001b[0m\u001b[0;34m\u001b[0m\u001b[0;34m\u001b[0m\u001b[0m\n\u001b[1;32m   2877\u001b[0m                     \u001b[0;32mreturn\u001b[0m \u001b[0mself\u001b[0m\u001b[0;34m.\u001b[0m\u001b[0m_getitem_multilevel\u001b[0m\u001b[0;34m(\u001b[0m\u001b[0mkey\u001b[0m\u001b[0;34m)\u001b[0m\u001b[0;34m\u001b[0m\u001b[0;34m\u001b[0m\u001b[0m\n\u001b[0;32m-> 2878\u001b[0;31m                 \u001b[0;32mreturn\u001b[0m \u001b[0mself\u001b[0m\u001b[0;34m.\u001b[0m\u001b[0m_get_item_cache\u001b[0m\u001b[0;34m(\u001b[0m\u001b[0mkey\u001b[0m\u001b[0;34m)\u001b[0m\u001b[0;34m\u001b[0m\u001b[0;34m\u001b[0m\u001b[0m\n\u001b[0m\u001b[1;32m   2879\u001b[0m \u001b[0;34m\u001b[0m\u001b[0m\n\u001b[1;32m   2880\u001b[0m         \u001b[0;31m# Do we have a slicer (on rows)?\u001b[0m\u001b[0;34m\u001b[0m\u001b[0;34m\u001b[0m\u001b[0;34m\u001b[0m\u001b[0m\n",
      "\u001b[0;32m~/opt/miniconda3/lib/python3.6/site-packages/pandas/core/generic.py\u001b[0m in \u001b[0;36m_get_item_cache\u001b[0;34m(self, item)\u001b[0m\n\u001b[1;32m   3535\u001b[0m         \u001b[0;34m\"\"\"Return the cached item, item represents a label indexer.\"\"\"\u001b[0m\u001b[0;34m\u001b[0m\u001b[0;34m\u001b[0m\u001b[0m\n\u001b[1;32m   3536\u001b[0m         \u001b[0mcache\u001b[0m \u001b[0;34m=\u001b[0m \u001b[0mself\u001b[0m\u001b[0;34m.\u001b[0m\u001b[0m_item_cache\u001b[0m\u001b[0;34m\u001b[0m\u001b[0;34m\u001b[0m\u001b[0m\n\u001b[0;32m-> 3537\u001b[0;31m         \u001b[0mres\u001b[0m \u001b[0;34m=\u001b[0m \u001b[0mcache\u001b[0m\u001b[0;34m.\u001b[0m\u001b[0mget\u001b[0m\u001b[0;34m(\u001b[0m\u001b[0mitem\u001b[0m\u001b[0;34m)\u001b[0m\u001b[0;34m\u001b[0m\u001b[0;34m\u001b[0m\u001b[0m\n\u001b[0m\u001b[1;32m   3538\u001b[0m         \u001b[0;32mif\u001b[0m \u001b[0mres\u001b[0m \u001b[0;32mis\u001b[0m \u001b[0;32mNone\u001b[0m\u001b[0;34m:\u001b[0m\u001b[0;34m\u001b[0m\u001b[0;34m\u001b[0m\u001b[0m\n\u001b[1;32m   3539\u001b[0m             \u001b[0;31m# All places that call _get_item_cache have unique columns,\u001b[0m\u001b[0;34m\u001b[0m\u001b[0;34m\u001b[0m\u001b[0;34m\u001b[0m\u001b[0m\n",
      "\u001b[0;31mKeyboardInterrupt\u001b[0m: "
     ]
    }
   ],
   "source": [
    "# Passing by Drop Type - Map PBP to depth chart - Double/triple loops and LONG RUN TIME\n",
    "depthChart = []\n",
    "team = []\n",
    "for i in range(len(passing_pbp_coverage_DB)):\n",
    "    inDepthChart = 0\n",
    "    team_tmp = 'team'\n",
    "    for j in depthChartOffense.columns:\n",
    "        for k in range(len(depthChartOffense)):\n",
    "            if passing_pbp_coverage_DB['playerName'][i] == depthChartOffense[j][k]:\n",
    "                inDepthChart += 1\n",
    "                team_tmp = j\n",
    "    if inDepthChart != 0:\n",
    "        depthChart.append(1)\n",
    "        team.append(team_tmp)\n",
    "    else:\n",
    "        depthChart.append(0)\n",
    "        team.append(\"\")\n",
    "passing_pbp_coverage_DB['depthChart'] = depthChart\n",
    "passing_pbp_coverage_DB['team'] = team\n",
    "passing_pbp_coverage_DB = passing_pbp_coverage_DB[passing_pbp_coverage_DB['depthChart'] == 1].reset_index(drop = True)\n"
   ]
  },
  {
   "cell_type": "code",
   "execution_count": 178,
   "id": "e102fc72",
   "metadata": {},
   "outputs": [],
   "source": [
    "#passing_pbp_coverage_DB.to_csv(\"NN_Data/passing_pbp_coverage_082922.csv\", index = False)"
   ]
  },
  {
   "cell_type": "code",
   "execution_count": 197,
   "id": "d02ad8ae",
   "metadata": {},
   "outputs": [],
   "source": []
  },
  {
   "cell_type": "code",
   "execution_count": 64,
   "id": "1cc32253",
   "metadata": {},
   "outputs": [
    {
     "ename": "KeyError",
     "evalue": "'team'",
     "output_type": "error",
     "traceback": [
      "\u001b[0;31m---------------------------------------------------------------------------\u001b[0m",
      "\u001b[0;31mKeyError\u001b[0m                                  Traceback (most recent call last)",
      "\u001b[0;32m<ipython-input-64-3bffbc98e4b5>\u001b[0m in \u001b[0;36m<module>\u001b[0;34m\u001b[0m\n\u001b[1;32m      8\u001b[0m     \u001b[0mplayerIDPassDT\u001b[0m \u001b[0;34m=\u001b[0m \u001b[0mpassing_pbp_coverage_DB\u001b[0m\u001b[0;34m[\u001b[0m\u001b[0mpassing_pbp_coverage_DB\u001b[0m\u001b[0;34m[\u001b[0m\u001b[0;34m'playerName'\u001b[0m\u001b[0;34m]\u001b[0m \u001b[0;34m==\u001b[0m \u001b[0mi\u001b[0m\u001b[0;34m]\u001b[0m\u001b[0;34m\u001b[0m\u001b[0;34m\u001b[0m\u001b[0m\n\u001b[1;32m      9\u001b[0m     \u001b[0;32mif\u001b[0m \u001b[0mcount\u001b[0m \u001b[0;34m==\u001b[0m \u001b[0;36m0\u001b[0m\u001b[0;34m:\u001b[0m\u001b[0;34m\u001b[0m\u001b[0;34m\u001b[0m\u001b[0m\n\u001b[0;32m---> 10\u001b[0;31m         \u001b[0mdfFPDB\u001b[0m \u001b[0;34m=\u001b[0m \u001b[0mplayerIDPassDT\u001b[0m\u001b[0;34m.\u001b[0m\u001b[0mgroupby\u001b[0m\u001b[0;34m(\u001b[0m\u001b[0mby\u001b[0m\u001b[0;34m=\u001b[0m\u001b[0;34m[\u001b[0m\u001b[0;34m\"team\"\u001b[0m\u001b[0;34m,\u001b[0m\u001b[0;34m\"playerName\"\u001b[0m\u001b[0;34m,\u001b[0m\u001b[0;34m\"DropType_descr\"\u001b[0m\u001b[0;34m]\u001b[0m\u001b[0;34m)\u001b[0m\u001b[0;34m.\u001b[0m\u001b[0msum\u001b[0m\u001b[0;34m(\u001b[0m\u001b[0;34m)\u001b[0m\u001b[0;34m\u001b[0m\u001b[0;34m\u001b[0m\u001b[0m\n\u001b[0m\u001b[1;32m     11\u001b[0m     \u001b[0;32melse\u001b[0m\u001b[0;34m:\u001b[0m\u001b[0;34m\u001b[0m\u001b[0;34m\u001b[0m\u001b[0m\n\u001b[1;32m     12\u001b[0m         \u001b[0mdfFPDB\u001b[0m \u001b[0;34m=\u001b[0m \u001b[0mdfFPDB\u001b[0m\u001b[0;34m.\u001b[0m\u001b[0mappend\u001b[0m\u001b[0;34m(\u001b[0m\u001b[0mplayerIDPassDT\u001b[0m\u001b[0;34m.\u001b[0m\u001b[0mgroupby\u001b[0m\u001b[0;34m(\u001b[0m\u001b[0mby\u001b[0m\u001b[0;34m=\u001b[0m\u001b[0;34m[\u001b[0m\u001b[0;34m\"team\"\u001b[0m\u001b[0;34m,\u001b[0m\u001b[0;34m\"playerName\"\u001b[0m\u001b[0;34m,\u001b[0m\u001b[0;34m\"DropType_descr\"\u001b[0m\u001b[0;34m]\u001b[0m\u001b[0;34m)\u001b[0m\u001b[0;34m.\u001b[0m\u001b[0msum\u001b[0m\u001b[0;34m(\u001b[0m\u001b[0;34m)\u001b[0m\u001b[0;34m)\u001b[0m\u001b[0;34m\u001b[0m\u001b[0;34m\u001b[0m\u001b[0m\n",
      "\u001b[0;32m~/opt/miniconda3/lib/python3.6/site-packages/pandas/core/frame.py\u001b[0m in \u001b[0;36mgroupby\u001b[0;34m(self, by, axis, level, as_index, sort, group_keys, squeeze, observed, dropna)\u001b[0m\n\u001b[1;32m   6523\u001b[0m             \u001b[0msqueeze\u001b[0m\u001b[0;34m=\u001b[0m\u001b[0msqueeze\u001b[0m\u001b[0;34m,\u001b[0m\u001b[0;34m\u001b[0m\u001b[0;34m\u001b[0m\u001b[0m\n\u001b[1;32m   6524\u001b[0m             \u001b[0mobserved\u001b[0m\u001b[0;34m=\u001b[0m\u001b[0mobserved\u001b[0m\u001b[0;34m,\u001b[0m\u001b[0;34m\u001b[0m\u001b[0;34m\u001b[0m\u001b[0m\n\u001b[0;32m-> 6525\u001b[0;31m             \u001b[0mdropna\u001b[0m\u001b[0;34m=\u001b[0m\u001b[0mdropna\u001b[0m\u001b[0;34m,\u001b[0m\u001b[0;34m\u001b[0m\u001b[0;34m\u001b[0m\u001b[0m\n\u001b[0m\u001b[1;32m   6526\u001b[0m         )\n\u001b[1;32m   6527\u001b[0m \u001b[0;34m\u001b[0m\u001b[0m\n",
      "\u001b[0;32m~/opt/miniconda3/lib/python3.6/site-packages/pandas/core/groupby/groupby.py\u001b[0m in \u001b[0;36m__init__\u001b[0;34m(self, obj, keys, axis, level, grouper, exclusions, selection, as_index, sort, group_keys, squeeze, observed, mutated, dropna)\u001b[0m\n\u001b[1;32m    531\u001b[0m                 \u001b[0mobserved\u001b[0m\u001b[0;34m=\u001b[0m\u001b[0mobserved\u001b[0m\u001b[0;34m,\u001b[0m\u001b[0;34m\u001b[0m\u001b[0;34m\u001b[0m\u001b[0m\n\u001b[1;32m    532\u001b[0m                 \u001b[0mmutated\u001b[0m\u001b[0;34m=\u001b[0m\u001b[0mself\u001b[0m\u001b[0;34m.\u001b[0m\u001b[0mmutated\u001b[0m\u001b[0;34m,\u001b[0m\u001b[0;34m\u001b[0m\u001b[0;34m\u001b[0m\u001b[0m\n\u001b[0;32m--> 533\u001b[0;31m                 \u001b[0mdropna\u001b[0m\u001b[0;34m=\u001b[0m\u001b[0mself\u001b[0m\u001b[0;34m.\u001b[0m\u001b[0mdropna\u001b[0m\u001b[0;34m,\u001b[0m\u001b[0;34m\u001b[0m\u001b[0;34m\u001b[0m\u001b[0m\n\u001b[0m\u001b[1;32m    534\u001b[0m             )\n\u001b[1;32m    535\u001b[0m \u001b[0;34m\u001b[0m\u001b[0m\n",
      "\u001b[0;32m~/opt/miniconda3/lib/python3.6/site-packages/pandas/core/groupby/grouper.py\u001b[0m in \u001b[0;36mget_grouper\u001b[0;34m(obj, key, axis, level, sort, observed, mutated, validate, dropna)\u001b[0m\n\u001b[1;32m    784\u001b[0m                 \u001b[0min_axis\u001b[0m\u001b[0;34m,\u001b[0m \u001b[0mname\u001b[0m\u001b[0;34m,\u001b[0m \u001b[0mlevel\u001b[0m\u001b[0;34m,\u001b[0m \u001b[0mgpr\u001b[0m \u001b[0;34m=\u001b[0m \u001b[0;32mFalse\u001b[0m\u001b[0;34m,\u001b[0m \u001b[0;32mNone\u001b[0m\u001b[0;34m,\u001b[0m \u001b[0mgpr\u001b[0m\u001b[0;34m,\u001b[0m \u001b[0;32mNone\u001b[0m\u001b[0;34m\u001b[0m\u001b[0;34m\u001b[0m\u001b[0m\n\u001b[1;32m    785\u001b[0m             \u001b[0;32melse\u001b[0m\u001b[0;34m:\u001b[0m\u001b[0;34m\u001b[0m\u001b[0;34m\u001b[0m\u001b[0m\n\u001b[0;32m--> 786\u001b[0;31m                 \u001b[0;32mraise\u001b[0m \u001b[0mKeyError\u001b[0m\u001b[0;34m(\u001b[0m\u001b[0mgpr\u001b[0m\u001b[0;34m)\u001b[0m\u001b[0;34m\u001b[0m\u001b[0;34m\u001b[0m\u001b[0m\n\u001b[0m\u001b[1;32m    787\u001b[0m         \u001b[0;32melif\u001b[0m \u001b[0misinstance\u001b[0m\u001b[0;34m(\u001b[0m\u001b[0mgpr\u001b[0m\u001b[0;34m,\u001b[0m \u001b[0mGrouper\u001b[0m\u001b[0;34m)\u001b[0m \u001b[0;32mand\u001b[0m \u001b[0mgpr\u001b[0m\u001b[0;34m.\u001b[0m\u001b[0mkey\u001b[0m \u001b[0;32mis\u001b[0m \u001b[0;32mnot\u001b[0m \u001b[0;32mNone\u001b[0m\u001b[0;34m:\u001b[0m\u001b[0;34m\u001b[0m\u001b[0;34m\u001b[0m\u001b[0m\n\u001b[1;32m    788\u001b[0m             \u001b[0;31m# Add key to exclusions\u001b[0m\u001b[0;34m\u001b[0m\u001b[0;34m\u001b[0m\u001b[0;34m\u001b[0m\u001b[0m\n",
      "\u001b[0;31mKeyError\u001b[0m: 'team'"
     ]
    }
   ],
   "source": [
    "# Add # of play\n",
    "passing_pbp_coverage_DB['plays'] = 1\n",
    "\n",
    "#Group by drop type \n",
    "\n",
    "count = 0\n",
    "for i in np.unique(passing_pbp_coverage_DB['playerName']):\n",
    "    playerIDPassDT = passing_pbp_coverage_DB[passing_pbp_coverage_DB['playerName'] == i]\n",
    "    if count == 0:\n",
    "        dfFPDB = playerIDPassDT.groupby(by=[\"team\",\"playerName\",\"DropType_descr\"]).sum()\n",
    "    else:\n",
    "        dfFPDB = dfFPDB.append(playerIDPassDT.groupby(by=[\"team\",\"playerName\",\"DropType_descr\"]).sum())\n",
    "    count += 1\n",
    "\n",
    "dfFPDB.reset_index(inplace=True)\n",
    "\n",
    "dfFPDB['FP/DB'] = dfFPDB['FP_total']/dfFPDB['dropBack']\n",
    "\n",
    "dfFPDB = dfFPDB[['team','playerName','DropType_descr','dropBack' ,'FP_yards', 'FP_TD','FP_intercept','FP_total','FP/DB', 'plays']]\n",
    "\n",
    "    \n",
    "#passing_pbp_coverage.groupby(by=[\"CoverageType_descr\"]).sum()\n"
   ]
  },
  {
   "cell_type": "code",
   "execution_count": 199,
   "id": "f6517b39",
   "metadata": {},
   "outputs": [],
   "source": [
    "# Calculte frequency\n",
    "\n",
    "totalPlayCountTable = dfFPDB.groupby(by=[\"playerName\"]).sum()\n",
    "totalPlayCountTable.reset_index(inplace=True)\n",
    "totalPlayCountTable = totalPlayCountTable.rename(columns={\"plays\" : \"totalPlays\"})\n",
    "dfFPDB = pd.merge(dfFPDB, totalPlayCountTable[['playerName', 'totalPlays']], \n",
    "         left_on = ['playerName'], \n",
    "         right_on=['playerName'], how = 'left')\n",
    "dfFPDB['freq'] = dfFPDB['plays'] / dfFPDB['totalPlays']"
   ]
  },
  {
   "cell_type": "markdown",
   "id": "d9c793f7",
   "metadata": {},
   "source": [
    "<h5> PASSING FP by drop type - defensive team <h5>"
   ]
  },
  {
   "cell_type": "code",
   "execution_count": 71,
   "id": "4afb382e",
   "metadata": {},
   "outputs": [],
   "source": [
    "# Merge with opponent teams\n",
    "\n",
    "passing_pbp_coverage_OPP = pd.merge(passing_pbp_coverage_DB, preSnapDefenseTeam[['season', 'week', 'gameId','oppTeamId', 'nickName']], \n",
    "         left_on = ['season', 'week', 'gameId'], \n",
    "                          right_on=['season', 'week', 'gameId'], how = 'left')\n",
    "passing_pbp_coverage_OPP = passing_pbp_coverage_OPP[passing_pbp_coverage_OPP['teamId'] != passing_pbp_coverage_OPP['oppTeamId']].reset_index(drop = True)\n",
    "\n",
    "passing_pbp_coverage_OPP['plays'] = 1\n",
    "# passing_pbp_coverage_OPP.to_csv(\"NN_Data/Defense/passing_pbp_coverage_OPP_081022.csv\", index = False)\n"
   ]
  },
  {
   "cell_type": "code",
   "execution_count": 72,
   "id": "bb49304a",
   "metadata": {},
   "outputs": [],
   "source": []
  },
  {
   "cell_type": "code",
   "execution_count": 73,
   "id": "fe781136",
   "metadata": {},
   "outputs": [],
   "source": [
    "#Group by defensive team and drop type \n",
    "\n",
    "count = 0\n",
    "for i in np.unique(passing_pbp_coverage_OPP['nickName']):\n",
    "    playerIDPassDT = passing_pbp_coverage_OPP[passing_pbp_coverage_OPP['nickName'] == i]\n",
    "    if count == 0:\n",
    "        dfFPDB_def = playerIDPassDT.groupby(by=[\"nickName\",\"DropType_descr\"]).sum()\n",
    "\n",
    "    else:\n",
    "        dfFPDB_def = dfFPDB_def.append(playerIDPassDT.groupby(by=[\"nickName\",\"DropType_descr\"]).sum())\n",
    "    count += 1\n",
    "\n",
    "dfFPDB_def.reset_index(inplace=True)\n",
    "\n",
    "dfFPDB_def['FP/DB'] = dfFPDB_def['FP_total']/dfFPDB_def['dropBack']\n",
    "    \n",
    "dfFPDB_def = dfFPDB_def[['nickName','DropType_descr','dropBack' ,'FP_yards', 'FP_TD','FP_intercept','FP_total','FP/DB', 'plays']]\n",
    "\n",
    "    \n"
   ]
  },
  {
   "cell_type": "code",
   "execution_count": 74,
   "id": "ebe7b7ed",
   "metadata": {},
   "outputs": [],
   "source": [
    "# Calculte frequency\n",
    "\n",
    "totalPlayCountTable = dfFPDB_def.groupby(by=[\"nickName\"]).sum()\n",
    "totalPlayCountTable.reset_index(inplace=True)\n",
    "totalPlayCountTable = totalPlayCountTable.rename(columns={\"plays\" : \"totalPlays\"})\n",
    "dfFPDB_def = pd.merge(dfFPDB_def, totalPlayCountTable[['nickName', 'totalPlays']], \n",
    "         left_on = ['nickName'], \n",
    "         right_on=['nickName'], how = 'left')\n",
    "dfFPDB_def['freq'] = dfFPDB_def['plays'] / dfFPDB_def['totalPlays']"
   ]
  },
  {
   "cell_type": "code",
   "execution_count": null,
   "id": "9b4f9790",
   "metadata": {},
   "outputs": [],
   "source": []
  },
  {
   "cell_type": "markdown",
   "id": "db0d87ad",
   "metadata": {},
   "source": [
    "<h5> Passing - Group by defense coverage <h5>"
   ]
  },
  {
   "cell_type": "code",
   "execution_count": 1072,
   "id": "b94a9867",
   "metadata": {},
   "outputs": [],
   "source": [
    "count = 0\n",
    "for i in np.unique(passing_pbp_coverage_DB['playerName']):\n",
    "    playerIDPassDT = passing_pbp_coverage_DB[passing_pbp_coverage_DB['playerName'] == i]\n",
    "    if count == 0:\n",
    "        dfFPDB_CoverageType = playerIDPassDT.groupby(by=[\"team\",\"playerName\",\"CoverageType_descr\"]).sum()\n",
    "        \n",
    "    else:\n",
    "        dfFPDB_CoverageType = dfFPDB_CoverageType.append(playerIDPassDT.groupby(by=[\"team\",\"playerName\",\"CoverageType_descr\"]).sum())\n",
    "    count += 1\n",
    "    \n",
    "dfFPDB_CoverageType.reset_index(inplace=True)\n",
    "\n",
    "dfFPDB_CoverageType['FP/DB'] = dfFPDB_CoverageType['FP_total']/dfFPDB_CoverageType['dropBack']\n",
    "\n",
    "dfFPDB_CoverageType = dfFPDB_CoverageType[['team', 'playerName','CoverageType_descr','dropBack' ,'FP_yards', 'FP_TD','FP_intercept','FP_total','FP/DB', 'plays']]\n",
    "\n"
   ]
  },
  {
   "cell_type": "code",
   "execution_count": 1073,
   "id": "cded93b0",
   "metadata": {},
   "outputs": [],
   "source": [
    "# Calculte frequency\n",
    "\n",
    "totalPlayCountTable = dfFPDB_CoverageType.groupby(by=[\"playerName\"]).sum()\n",
    "totalPlayCountTable.reset_index(inplace=True)\n",
    "totalPlayCountTable = totalPlayCountTable.rename(columns={\"plays\" : \"totalPlays\"})\n",
    "dfFPDB_CoverageType = pd.merge(dfFPDB_CoverageType, totalPlayCountTable[['playerName', 'totalPlays']], \n",
    "         left_on = ['playerName'], \n",
    "         right_on=['playerName'], how = 'left')\n",
    "dfFPDB_CoverageType['freq'] = dfFPDB_CoverageType['plays'] / dfFPDB_CoverageType['totalPlays']"
   ]
  },
  {
   "cell_type": "markdown",
   "id": "49f71b1a",
   "metadata": {},
   "source": [
    "<h5> PASSING group by coverage - defensive team <h5>"
   ]
  },
  {
   "cell_type": "code",
   "execution_count": 1075,
   "id": "e25a5840",
   "metadata": {},
   "outputs": [],
   "source": [
    "# FP by defense coverage\n",
    "\n",
    "count = 0\n",
    "for i in np.unique(passing_pbp_coverage_OPP['nickName']):\n",
    "    playerIDPassDT = passing_pbp_coverage_OPP[passing_pbp_coverage_OPP['nickName'] == i]\n",
    "    if count == 0:\n",
    "        dfFPDB_CoverageType_def = playerIDPassDT.groupby(by=[\"nickName\",\"CoverageType_descr\"]).sum()\n",
    "        \n",
    "    else:\n",
    "        dfFPDB_CoverageType_def = dfFPDB_CoverageType_def.append(playerIDPassDT.groupby(by=[\"nickName\",\"CoverageType_descr\"]).sum())\n",
    "    count += 1\n",
    "    \n",
    "dfFPDB_CoverageType_def.reset_index(inplace=True)\n",
    "\n",
    "dfFPDB_CoverageType_def['FP/DB'] = dfFPDB_CoverageType_def['FP_total']/dfFPDB_CoverageType_def['dropBack']\n",
    "\n",
    "dfFPDB_CoverageType_def = dfFPDB_CoverageType_def[['nickName','CoverageType_descr','dropBack' ,'FP_yards', 'FP_TD','FP_intercept','FP_total','FP/DB', 'plays']]\n",
    "\n"
   ]
  },
  {
   "cell_type": "code",
   "execution_count": 1076,
   "id": "974d95a3",
   "metadata": {},
   "outputs": [],
   "source": [
    "\n",
    "# Calculte frequency\n",
    "\n",
    "totalPlayCountTable = dfFPDB_CoverageType_def.groupby(by=[\"nickName\"]).sum()\n",
    "totalPlayCountTable.reset_index(inplace=True)\n",
    "totalPlayCountTable = totalPlayCountTable.rename(columns={\"plays\" : \"totalPlays\"})\n",
    "dfFPDB_CoverageType_def = pd.merge(dfFPDB_CoverageType_def, totalPlayCountTable[['nickName', 'totalPlays']], \n",
    "         left_on = ['nickName'], \n",
    "         right_on=['nickName'], how = 'left')\n",
    "dfFPDB_CoverageType_def['freq'] = dfFPDB_CoverageType_def['plays'] / dfFPDB_CoverageType_def['totalPlays']"
   ]
  },
  {
   "cell_type": "code",
   "execution_count": null,
   "id": "c3fc5ced",
   "metadata": {},
   "outputs": [],
   "source": []
  },
  {
   "cell_type": "markdown",
   "id": "bc761e9d",
   "metadata": {},
   "source": [
    "<h5> PASSING group by defense coverage - POOLED <h5>"
   ]
  },
  {
   "cell_type": "code",
   "execution_count": 1077,
   "id": "464c2ee8",
   "metadata": {},
   "outputs": [],
   "source": [
    "count = 0\n",
    "for i in np.unique(passing_pbp_coverage_DB['playerName']):\n",
    "    playerIDPassDT = passing_pbp_coverage_DB[passing_pbp_coverage_DB['playerName'] == i]\n",
    "    if count == 0:\n",
    "        dfFPDB_CoverageType_pooled = playerIDPassDT.groupby(by=[\"team\",\"playerName\",\"CoverageType_pooled\"]).sum()\n",
    "        \n",
    "    else:\n",
    "        dfFPDB_CoverageType_pooled = dfFPDB_CoverageType_pooled.append(playerIDPassDT.groupby(by=[\"team\",\"playerName\",\"CoverageType_pooled\"]).sum())\n",
    "    count += 1\n",
    "    \n",
    "dfFPDB_CoverageType_pooled.reset_index(inplace=True)\n",
    "\n",
    "dfFPDB_CoverageType_pooled['FP/DB'] = dfFPDB_CoverageType_pooled['FP_total']/dfFPDB_CoverageType_pooled['dropBack']\n",
    "\n",
    "dfFPDB_CoverageType_pooled = dfFPDB_CoverageType_pooled[['team', 'playerName','CoverageType_pooled','dropBack' ,'FP_yards', 'FP_TD','FP_intercept','FP_total','FP/DB', 'plays']]\n",
    "\n"
   ]
  },
  {
   "cell_type": "code",
   "execution_count": 1078,
   "id": "fe1421ab",
   "metadata": {},
   "outputs": [],
   "source": [
    "# Calculte frequency\n",
    "\n",
    "totalPlayCountTable = dfFPDB_CoverageType_pooled.groupby(by=[\"playerName\"]).sum()\n",
    "totalPlayCountTable.reset_index(inplace=True)\n",
    "totalPlayCountTable = totalPlayCountTable.rename(columns={\"plays\" : \"totalPlays\"})\n",
    "dfFPDB_CoverageType_pooled = pd.merge(dfFPDB_CoverageType_pooled, totalPlayCountTable[['playerName', 'totalPlays']], \n",
    "         left_on = ['playerName'], \n",
    "         right_on=['playerName'], how = 'left')\n",
    "dfFPDB_CoverageType_pooled['freq'] = dfFPDB_CoverageType_pooled['plays'] / dfFPDB_CoverageType_pooled['totalPlays']"
   ]
  },
  {
   "cell_type": "code",
   "execution_count": null,
   "id": "9322a7ed",
   "metadata": {},
   "outputs": [],
   "source": []
  },
  {
   "cell_type": "code",
   "execution_count": null,
   "id": "ed9979e1",
   "metadata": {},
   "outputs": [],
   "source": []
  },
  {
   "cell_type": "markdown",
   "id": "f4f93a44",
   "metadata": {},
   "source": [
    "<h5> PASSING group by defense coverage - POOLED - defensive team <h5>"
   ]
  },
  {
   "cell_type": "code",
   "execution_count": 1079,
   "id": "c773a3b3",
   "metadata": {},
   "outputs": [],
   "source": [
    "# Group by defense coverage\n",
    "\n",
    "count = 0\n",
    "for i in np.unique(passing_pbp_coverage_OPP['nickName']):\n",
    "    playerIDPassDT = passing_pbp_coverage_OPP[passing_pbp_coverage_OPP['nickName'] == i]\n",
    "    if count == 0:\n",
    "        dfFPDB_CoverageType_def_pooled = playerIDPassDT.groupby(by=[\"nickName\",\"CoverageType_pooled\"]).sum()\n",
    "        \n",
    "    else:\n",
    "        dfFPDB_CoverageType_def_pooled = dfFPDB_CoverageType_def_pooled.append(playerIDPassDT.groupby(by=[\"nickName\",\"CoverageType_pooled\"]).sum())\n",
    "    count += 1\n",
    "    \n",
    "dfFPDB_CoverageType_def_pooled.reset_index(inplace=True)\n",
    "\n",
    "dfFPDB_CoverageType_def_pooled['FP/DB'] = dfFPDB_CoverageType_def_pooled['FP_total']/dfFPDB_CoverageType_def_pooled['dropBack']\n",
    "\n",
    "dfFPDB_CoverageType_def_pooled = dfFPDB_CoverageType_def_pooled[['nickName','CoverageType_pooled','dropBack' ,'FP_yards', 'FP_TD','FP_intercept','FP_total','FP/DB', 'plays']]\n",
    "\n"
   ]
  },
  {
   "cell_type": "code",
   "execution_count": 1080,
   "id": "d65798fe",
   "metadata": {},
   "outputs": [],
   "source": [
    "\n",
    "# Calculte frequency\n",
    "\n",
    "totalPlayCountTable = dfFPDB_CoverageType_def_pooled.groupby(by=[\"nickName\"]).sum()\n",
    "totalPlayCountTable.reset_index(inplace=True)\n",
    "totalPlayCountTable = totalPlayCountTable.rename(columns={\"plays\" : \"totalPlays\"})\n",
    "dfFPDB_CoverageType_def_pooled = pd.merge(dfFPDB_CoverageType_def_pooled, totalPlayCountTable[['nickName', 'totalPlays']], \n",
    "         left_on = ['nickName'], \n",
    "         right_on=['nickName'], how = 'left')\n",
    "dfFPDB_CoverageType_def_pooled['freq'] = dfFPDB_CoverageType_def_pooled['plays'] / dfFPDB_CoverageType_def_pooled['totalPlays']\n"
   ]
  },
  {
   "cell_type": "code",
   "execution_count": null,
   "id": "c66bc66c",
   "metadata": {},
   "outputs": [],
   "source": []
  },
  {
   "cell_type": "markdown",
   "id": "98207589",
   "metadata": {},
   "source": [
    "<h5> PASSING FP by target type <h5>"
   ]
  },
  {
   "cell_type": "code",
   "execution_count": 1083,
   "id": "be9cb2e4",
   "metadata": {},
   "outputs": [],
   "source": [
    "# Mapping to numbering before grouping\n",
    "passing_RouteTree = passing_pbp_coverage_DB.copy()\n",
    "routeTree = pd.read_csv(\"RouteTree.csv\", index_col = False)\n",
    "\n",
    "targetTypeMap = []\n",
    "for i in range(len(passing_RouteTree)):\n",
    "    try:\n",
    "        ind = passing_RouteTree['TargetType_descr'][i].index(\"-\")\n",
    "        targetTypeMap.append(passing_RouteTree['TargetType_descr'][i][:ind - 1])\n",
    "    except:\n",
    "        targetTypeMap.append(passing_RouteTree['TargetType_descr'][i])\n",
    "passing_RouteTree['targetTypeMap'] = targetTypeMap\n",
    "\n",
    "passing_RouteTree = pd.merge(passing_RouteTree, routeTree[['All', 'SIS']], left_on = ['targetTypeMap'],\n",
    "                          right_on=['All'], how = 'left')\n",
    "\n",
    "passing_RouteTree = passing_RouteTree.rename(columns={\"SIS\" : \"route\"})\n",
    "passing_RouteTree = passing_RouteTree.drop(columns = ['All'])"
   ]
  },
  {
   "cell_type": "code",
   "execution_count": null,
   "id": "802878b0",
   "metadata": {},
   "outputs": [],
   "source": []
  },
  {
   "cell_type": "code",
   "execution_count": 1084,
   "id": "3b988acc",
   "metadata": {},
   "outputs": [],
   "source": [
    "# Group by target type\n",
    "\n",
    "count = 0\n",
    "for i in np.unique(passing_RouteTree['playerName']):\n",
    "    playerIDPassDT = passing_RouteTree[passing_RouteTree['playerName'] == i]\n",
    "    if count == 0:\n",
    "        dfFPDB_RouteType = playerIDPassDT.groupby(by=[\"team\",\"playerName\",\"route\"]).sum()\n",
    "\n",
    "    else:\n",
    "        dfFPDB_RouteType = dfFPDB_RouteType.append(playerIDPassDT.groupby(by=[\"team\",\"playerName\",\"route\"]).sum())\n",
    "    count += 1\n",
    "\n",
    "dfFPDB_RouteType.reset_index(inplace=True)\n",
    "\n",
    "dfFPDB_RouteType['FP/DB'] = dfFPDB_RouteType['FP_total']/dfFPDB_RouteType['dropBack']\n",
    "\n",
    "\n",
    "dfFPDB_RouteType = dfFPDB_RouteType[[\"team\",'playerName', 'route','dropBack' ,'FP_yards', 'FP_TD','FP_intercept','FP_total','FP/DB', 'plays']]\n",
    "\n"
   ]
  },
  {
   "cell_type": "code",
   "execution_count": 1085,
   "id": "03dea45d",
   "metadata": {},
   "outputs": [],
   "source": [
    "\n",
    "# Calculte frequency\n",
    "\n",
    "totalPlayCountTable = dfFPDB_RouteType.groupby(by=[\"playerName\"]).sum()\n",
    "totalPlayCountTable.reset_index(inplace=True)\n",
    "totalPlayCountTable = totalPlayCountTable.rename(columns={\"plays\" : \"totalPlays\"})\n",
    "dfFPDB_RouteType = pd.merge(dfFPDB_RouteType, totalPlayCountTable[['playerName', 'totalPlays']], \n",
    "         left_on = ['playerName'], \n",
    "         right_on=['playerName'], how = 'left')\n",
    "dfFPDB_RouteType['freq'] = dfFPDB_RouteType['plays'] / dfFPDB_RouteType['totalPlays']"
   ]
  },
  {
   "cell_type": "code",
   "execution_count": null,
   "id": "169d96d4",
   "metadata": {},
   "outputs": [],
   "source": []
  },
  {
   "cell_type": "markdown",
   "id": "cee07bea",
   "metadata": {},
   "source": [
    "<h5> Group by coverage - defensive team <h5>"
   ]
  },
  {
   "cell_type": "code",
   "execution_count": 1086,
   "id": "318c8426",
   "metadata": {},
   "outputs": [],
   "source": [
    "passing_pbp_coverage_OPP\n",
    "\n",
    "# Mapping to numbering first\n",
    "passing_RouteTree = passing_pbp_coverage_OPP.copy()\n",
    "routeTree = pd.read_csv(\"RouteTree.csv\", index_col = False)\n",
    "\n",
    "targetTypeMap = []\n",
    "for i in range(len(passing_RouteTree)):\n",
    "    try:\n",
    "        ind = passing_RouteTree['TargetType_descr'][i].index(\"-\")\n",
    "        targetTypeMap.append(passing_RouteTree['TargetType_descr'][i][:ind - 1])\n",
    "    except:\n",
    "        targetTypeMap.append(passing_RouteTree['TargetType_descr'][i])\n",
    "passing_RouteTree['targetTypeMap'] = targetTypeMap\n",
    "\n",
    "passing_RouteTree = pd.merge(passing_RouteTree, routeTree[['All', 'SIS']], left_on = ['targetTypeMap'],\n",
    "                          right_on=['All'], how = 'left')\n",
    "\n",
    "passing_RouteTree = passing_RouteTree.rename(columns={\"SIS\" : \"route\"})\n",
    "passing_RouteTree = passing_RouteTree.drop(columns = ['All'])"
   ]
  },
  {
   "cell_type": "code",
   "execution_count": 1087,
   "id": "d00aec70",
   "metadata": {},
   "outputs": [],
   "source": [
    "count = 0\n",
    "for i in np.unique(passing_RouteTree['nickName']):\n",
    "    playerIDPassDT = passing_RouteTree[passing_RouteTree['nickName'] == i]\n",
    "    if count == 0:\n",
    "        dfFPDB_RouteType_def = playerIDPassDT.groupby(by=[\"nickName\",\"route\"]).sum()\n",
    "\n",
    "    else:\n",
    "        dfFPDB_RouteType_def = dfFPDB_RouteType_def.append(playerIDPassDT.groupby(by=[\"nickName\",\"route\"]).sum())\n",
    "    count += 1\n",
    "\n",
    "dfFPDB_RouteType_def.reset_index(inplace=True)\n",
    "\n",
    "dfFPDB_RouteType_def['FP/DB'] = dfFPDB_RouteType_def['FP_total']/dfFPDB_RouteType_def['dropBack']\n",
    "\n",
    "\n",
    "dfFPDB_RouteType_def = dfFPDB_RouteType_def[['nickName', 'route','dropBack' ,'FP_yards', 'FP_TD','FP_intercept','FP_total','FP/DB', 'plays']]\n",
    "\n"
   ]
  },
  {
   "cell_type": "code",
   "execution_count": 1088,
   "id": "d37c4552",
   "metadata": {},
   "outputs": [],
   "source": [
    "# Calculte frequency\n",
    "\n",
    "totalPlayCountTable = dfFPDB_RouteType_def.groupby(by=[\"nickName\"]).sum()\n",
    "totalPlayCountTable.reset_index(inplace=True)\n",
    "totalPlayCountTable = totalPlayCountTable.rename(columns={\"plays\" : \"totalPlays\"})\n",
    "dfFPDB_RouteType_def = pd.merge(dfFPDB_RouteType_def, totalPlayCountTable[['nickName', 'totalPlays']], \n",
    "         left_on = ['nickName'], \n",
    "         right_on=['nickName'], how = 'left')\n",
    "dfFPDB_RouteType_def['freq'] = dfFPDB_RouteType_def['plays'] / dfFPDB_RouteType_def['totalPlays']\n"
   ]
  },
  {
   "cell_type": "code",
   "execution_count": null,
   "id": "0ede49f6",
   "metadata": {},
   "outputs": [],
   "source": []
  },
  {
   "cell_type": "code",
   "execution_count": 1090,
   "id": "6f817b5c",
   "metadata": {},
   "outputs": [],
   "source": [
    "dfFPDB.to_csv('Split/Passing_DropType_2020_0817.csv')\n",
    "dfFPDB_CoverageType.to_csv('Split/Passing_CoverageType_2020_0817.csv')\n",
    "dfFPDB_CoverageType_pooled.to_csv('Split/Passing_CoverageType_pooled_2020_0817.csv')\n",
    "dfFPDB_RouteType.to_csv('Split/Passing_RouteType_2020_0817.csv')"
   ]
  },
  {
   "cell_type": "code",
   "execution_count": 37,
   "id": "ee192a25",
   "metadata": {},
   "outputs": [],
   "source": []
  },
  {
   "cell_type": "code",
   "execution_count": 1091,
   "id": "7d0487f1",
   "metadata": {},
   "outputs": [],
   "source": [
    "dfFPDB_def.to_csv('Split/Passing_DropType_def2020__0817.csv')\n",
    "dfFPDB_CoverageType_def.to_csv('Split/Passing_CoverageType_def2020__0817.csv')\n",
    "dfFPDB_CoverageType_def_pooled.to_csv('Split/Passing_CoverageType_def_pooled2020__0817.csv')\n",
    "dfFPDB_RouteType_def.to_csv('Split/Passing_RouteTyoe_def2020__0817.csv')"
   ]
  },
  {
   "cell_type": "code",
   "execution_count": 40,
   "id": "6065655d",
   "metadata": {},
   "outputs": [],
   "source": []
  },
  {
   "cell_type": "code",
   "execution_count": null,
   "id": "766cc683",
   "metadata": {},
   "outputs": [],
   "source": []
  },
  {
   "cell_type": "code",
   "execution_count": null,
   "id": "31572f70",
   "metadata": {},
   "outputs": [],
   "source": []
  },
  {
   "cell_type": "markdown",
   "id": "94c64f73",
   "metadata": {},
   "source": [
    "# Receiving"
   ]
  },
  {
   "cell_type": "code",
   "execution_count": 204,
   "id": "faa6c175",
   "metadata": {},
   "outputs": [],
   "source": [
    "# Merge receiving with coverage types\n",
    "receiving_pbp_coverage = pd.merge(receiving_pbp_map, \n",
    "                                presnapDefense_pbp_map[['season', 'week', 'gameId', 'eventId', 'coverageSchemeType', 'CoverageType_descr', 'CoverageType_pooled']], \n",
    "                                left_on = ['season', 'week', 'gameId', 'eventId'], \n",
    "                          right_on=['season', 'week', 'gameId', 'eventId'], how = 'left')\n",
    "\n"
   ]
  },
  {
   "cell_type": "code",
   "execution_count": 205,
   "id": "2d3e9066",
   "metadata": {},
   "outputs": [],
   "source": [
    "#  map to drop type from passing data\n",
    "\n",
    "receiving_pbp_coverage = pd.merge(receiving_pbp_coverage, \n",
    "                                passing_pbp_map[['season', 'week', 'gameId', 'eventId', 'dropType', 'DropType_descr']], \n",
    "                                left_on = ['season', 'week', 'gameId', 'eventId'], \n",
    "                          right_on=['season', 'week', 'gameId', 'eventId'], how = 'left')\n"
   ]
  },
  {
   "cell_type": "code",
   "execution_count": 206,
   "id": "eef64f73",
   "metadata": {},
   "outputs": [],
   "source": [
    "#Ensure the selected year is included\n",
    "receiving_pbp_coverage= receiving_pbp_coverage[receiving_pbp_coverage['season'] == 2021].reset_index(drop = True)\n",
    "#receiving_pbp_coverage= receiving_pbp_coverage[receiving_pbp_coverage['season'] == 2020].reset_index(drop = True)\n"
   ]
  },
  {
   "cell_type": "code",
   "execution_count": 207,
   "id": "1a19b08c",
   "metadata": {},
   "outputs": [],
   "source": [
    "# Clean up float\n",
    "\n",
    "playerName = []\n",
    "for i in range(len(receiving_pbp_coverage)):\n",
    "    playerName.append(str(receiving_pbp_coverage['playerName'][i]))\n",
    "receiving_pbp_coverage['playerName'] = playerName"
   ]
  },
  {
   "cell_type": "code",
   "execution_count": null,
   "id": "79df64a4",
   "metadata": {},
   "outputs": [],
   "source": []
  },
  {
   "cell_type": "code",
   "execution_count": 209,
   "id": "5ce8440e",
   "metadata": {},
   "outputs": [],
   "source": [
    "# Add FP yards and touchdown\n",
    "receiving_pbp_coverage['FP_yards'] = receiving_pbp_coverage['yards'] * 0.1\n",
    "\n",
    "FP_TD= []\n",
    "#passing_pbp_coverage['FP_TD'] = 0\n",
    "for i in range(len(receiving_pbp_coverage)):\n",
    "    if receiving_pbp_coverage['scoreType'][i] == 6:\n",
    "        FP_TD.append(6)\n",
    "    else:\n",
    "        FP_TD.append(0)\n",
    "receiving_pbp_coverage['FP_TD'] = FP_TD\n",
    "\n"
   ]
  },
  {
   "cell_type": "code",
   "execution_count": 210,
   "id": "34b7d429",
   "metadata": {},
   "outputs": [],
   "source": [
    "# FP Catch/receiving\n",
    "FP_receiving = []\n",
    "\n",
    "for i in range(len(receiving_pbp_coverage)):\n",
    "    if receiving_pbp_coverage['actionType'][i] == 2:\n",
    "        FP_receiving.append(1)\n",
    "    else: \n",
    "        FP_receiving.append(0)\n",
    "receiving_pbp_coverage['FP_receiving'] = FP_receiving"
   ]
  },
  {
   "cell_type": "code",
   "execution_count": 211,
   "id": "bbecaef2",
   "metadata": {},
   "outputs": [],
   "source": [
    "receiving_pbp_coverage['FP_total'] = receiving_pbp_coverage['FP_yards'] +  receiving_pbp_coverage['FP_TD'] + receiving_pbp_coverage['FP_receiving']\n",
    "receiving_pbp_coverage['plays'] = 1\n"
   ]
  },
  {
   "cell_type": "code",
   "execution_count": 65,
   "id": "3fb72adf",
   "metadata": {},
   "outputs": [
    {
     "ename": "NameError",
     "evalue": "name 'receiving_pbp_coverage' is not defined",
     "output_type": "error",
     "traceback": [
      "\u001b[0;31m---------------------------------------------------------------------------\u001b[0m",
      "\u001b[0;31mNameError\u001b[0m                                 Traceback (most recent call last)",
      "\u001b[0;32m<ipython-input-65-5de3ab4ae4d0>\u001b[0m in \u001b[0;36m<module>\u001b[0;34m\u001b[0m\n\u001b[1;32m      2\u001b[0m \u001b[0mdepthChart\u001b[0m \u001b[0;34m=\u001b[0m \u001b[0;34m[\u001b[0m\u001b[0;34m]\u001b[0m\u001b[0;34m\u001b[0m\u001b[0;34m\u001b[0m\u001b[0m\n\u001b[1;32m      3\u001b[0m \u001b[0mteam\u001b[0m \u001b[0;34m=\u001b[0m \u001b[0;34m[\u001b[0m\u001b[0;34m]\u001b[0m\u001b[0;34m\u001b[0m\u001b[0;34m\u001b[0m\u001b[0m\n\u001b[0;32m----> 4\u001b[0;31m \u001b[0;32mfor\u001b[0m \u001b[0mi\u001b[0m \u001b[0;32min\u001b[0m \u001b[0mrange\u001b[0m\u001b[0;34m(\u001b[0m\u001b[0mlen\u001b[0m\u001b[0;34m(\u001b[0m\u001b[0mreceiving_pbp_coverage\u001b[0m\u001b[0;34m)\u001b[0m\u001b[0;34m)\u001b[0m\u001b[0;34m:\u001b[0m\u001b[0;34m\u001b[0m\u001b[0;34m\u001b[0m\u001b[0m\n\u001b[0m\u001b[1;32m      5\u001b[0m     \u001b[0minDepthChart\u001b[0m \u001b[0;34m=\u001b[0m \u001b[0;36m0\u001b[0m\u001b[0;34m\u001b[0m\u001b[0;34m\u001b[0m\u001b[0m\n\u001b[1;32m      6\u001b[0m     \u001b[0mteam_tmp\u001b[0m \u001b[0;34m=\u001b[0m \u001b[0;34m'team'\u001b[0m\u001b[0;34m\u001b[0m\u001b[0;34m\u001b[0m\u001b[0m\n",
      "\u001b[0;31mNameError\u001b[0m: name 'receiving_pbp_coverage' is not defined"
     ]
    }
   ],
   "source": [
    "# Receiving map to depth chart - LONG RUN TIME\n",
    "depthChart = []\n",
    "team = []\n",
    "for i in range(len(receiving_pbp_coverage)):\n",
    "    inDepthChart = 0\n",
    "    team_tmp = 'team'\n",
    "    for j in depthChartOffense.columns:\n",
    "        for k in range(len(depChartOffense)):\n",
    "            if receiving_pbp_coverage['playerName'][i] == depthChartOffense[j][k]:\n",
    "                inDepthChart += 1\n",
    "                team_tmp = j\n",
    "    if inDepthChart != 0:\n",
    "        depthChart.append(1)\n",
    "        team.append(team_tmp)\n",
    "    else:\n",
    "        depthChart.append(0)\n",
    "        team.append(\"\")\n",
    "receiving_pbp_coverage['depthChart'] = depthChart\n",
    "receiving_pbp_coverage['team'] = team\n",
    "receiving_pbp_coverage = receiving_pbp_coverage[receiving_pbp_coverage['depthChart'] == 1].reset_index(drop = True)\n"
   ]
  },
  {
   "cell_type": "code",
   "execution_count": 353,
   "id": "10bbdbb3",
   "metadata": {},
   "outputs": [],
   "source": [
    "#receiving_pbp_coverage.to_csv(\"NN_Data/PBP_NN/receiving_pbp_081622.CSV\", index = False)"
   ]
  },
  {
   "cell_type": "code",
   "execution_count": null,
   "id": "c7c0a336",
   "metadata": {},
   "outputs": [],
   "source": []
  },
  {
   "cell_type": "code",
   "execution_count": null,
   "id": "6f20aa33",
   "metadata": {},
   "outputs": [],
   "source": []
  },
  {
   "cell_type": "code",
   "execution_count": null,
   "id": "24e1a21b",
   "metadata": {},
   "outputs": [],
   "source": []
  },
  {
   "cell_type": "code",
   "execution_count": null,
   "id": "626eaa0d",
   "metadata": {},
   "outputs": [],
   "source": []
  },
  {
   "cell_type": "code",
   "execution_count": 214,
   "id": "ac09b31c",
   "metadata": {},
   "outputs": [],
   "source": [
    "# FP/route group by defense coverage\n",
    "\n",
    "count = 0\n",
    "for i in np.unique(receiving_pbp_coverage['playerName']):\n",
    "    playerData = receiving_pbp_coverage[receiving_pbp_coverage['playerName'] == i]\n",
    "    if count == 0:\n",
    "        group = playerData.groupby(by=[\"team\", \"playerName\",\"CoverageType_descr\"]).sum()\n",
    "        \n",
    "    else:\n",
    "        group = group.append(playerData.groupby(by=[\"team\", \"playerName\",\"CoverageType_descr\"]).sum())\n",
    "    count += 1\n",
    "    \n",
    "group.reset_index(inplace=True)\n",
    "receiving_CoverageType = group[[\"team\", 'playerName','CoverageType_descr','FP_yards', 'FP_TD','FP_receiving','FP_total', 'plays']]\n",
    "\n",
    "    "
   ]
  },
  {
   "cell_type": "code",
   "execution_count": null,
   "id": "7b8d8a23",
   "metadata": {},
   "outputs": [],
   "source": []
  },
  {
   "cell_type": "code",
   "execution_count": 69,
   "id": "b5e9fbb4",
   "metadata": {},
   "outputs": [],
   "source": [
    "# Load all routes by coverage type (downloads from SIS dashboard)\n",
    "directory = 'SIS Dashboard/CoverageType/'\n",
    "#directory = 'SIS Dashboard/2020Archive/CoverageType/'\n",
    "count = 0\n",
    "for filename in os.listdir(directory):\n",
    "    if 'csv' not in filename:\n",
    "        continue\n",
    "    f = os.path.join(directory, filename)\n",
    "    fname = filename[:filename.index('.csv')]\n",
    "    if count == 0:\n",
    "        dfRead_CoverageType = pd.read_csv(f) \n",
    "        dfRead_CoverageType['CoverageType'] = fname\n",
    "    else:\n",
    "        dfRead_CoverageType_tmp = pd.read_csv(f)\n",
    "        dfRead_CoverageType_tmp['CoverageType'] = fname\n",
    "        dfRead_CoverageType = dfRead_CoverageType.append(dfRead_CoverageType_tmp, ignore_index=True)\n",
    "    count += 1"
   ]
  },
  {
   "cell_type": "code",
   "execution_count": 217,
   "id": "a9002aed",
   "metadata": {},
   "outputs": [],
   "source": [
    "# Merge receiving data with coverage type routes run.\n",
    "\n",
    "receiving_CoverageType_routesRun = pd.merge(receiving_CoverageType, \n",
    "                                dfRead_CoverageType[['Player','CoverageType','Routes Run']], \n",
    "                                left_on = ['playerName','CoverageType_descr'], \n",
    "                          right_on=['Player','CoverageType', ], how = 'left')\n",
    "\n",
    "receiving_CoverageType_routesRun = receiving_CoverageType_routesRun.dropna(subset = ['Routes Run'])\n",
    "\n",
    "receiving_CoverageType_routesRun['FP/routes'] = receiving_CoverageType_routesRun['FP_total']/receiving_CoverageType_routesRun['Routes Run']\n",
    "\n",
    "receiving_CoverageType_routesRun = receiving_CoverageType_routesRun[[\"team\", 'playerName','CoverageType_descr','FP_yards','FP_TD', 'FP_receiving' , 'FP_total', 'Routes Run', 'FP/routes', 'plays']]\n",
    "\n"
   ]
  },
  {
   "cell_type": "code",
   "execution_count": 218,
   "id": "62004b39",
   "metadata": {},
   "outputs": [],
   "source": [
    "# Calculte frequency\n",
    "\n",
    "totalPlayCountTable = receiving_CoverageType_routesRun.groupby(by=[\"playerName\"]).sum()\n",
    "totalPlayCountTable.reset_index(inplace=True)\n",
    "totalPlayCountTable = totalPlayCountTable.rename(columns={\"plays\" : \"totalPlays\"})\n",
    "receiving_CoverageType_routesRun = pd.merge(receiving_CoverageType_routesRun, totalPlayCountTable[['playerName', 'totalPlays']], \n",
    "         left_on = ['playerName'], \n",
    "         right_on=['playerName'], how = 'left')\n",
    "receiving_CoverageType_routesRun['freq'] = receiving_CoverageType_routesRun['plays'] / receiving_CoverageType_routesRun['totalPlays']\n"
   ]
  },
  {
   "cell_type": "code",
   "execution_count": null,
   "id": "c8fe68ed",
   "metadata": {},
   "outputs": [],
   "source": []
  },
  {
   "cell_type": "code",
   "execution_count": 1111,
   "id": "17730302",
   "metadata": {},
   "outputs": [],
   "source": [
    "receiving_CoverageType_routesRun.to_csv('Split/Receiving_CoverageType_2020_0817.csv', index = False)"
   ]
  },
  {
   "cell_type": "code",
   "execution_count": null,
   "id": "a3423942",
   "metadata": {},
   "outputs": [],
   "source": []
  },
  {
   "cell_type": "markdown",
   "id": "1176cad2",
   "metadata": {},
   "source": [
    "<h5> Group by coverage - defensive team <h5>"
   ]
  },
  {
   "cell_type": "code",
   "execution_count": 221,
   "id": "826417d0",
   "metadata": {},
   "outputs": [],
   "source": [
    "# Merge PBP with opponent teams \n",
    "\n",
    "receiving_pbp_coverage_OPP = pd.merge(receiving_pbp_coverage, preSnapDefenseTeam[['season', 'week', 'gameId','oppTeamId', 'nickName']], \n",
    "         left_on = ['season', 'week', 'gameId'], \n",
    "                          right_on=['season', 'week', 'gameId'], how = 'left')\n",
    "receiving_pbp_coverage_OPP = receiving_pbp_coverage_OPP[receiving_pbp_coverage_OPP['teamId'] != receiving_pbp_coverage_OPP['oppTeamId']].reset_index(drop = True)\n",
    "receiving_pbp_coverage_OPP['plays'] = 1\n"
   ]
  },
  {
   "cell_type": "code",
   "execution_count": 78,
   "id": "34d987da",
   "metadata": {},
   "outputs": [],
   "source": [
    "#receiving_pbp_coverage_OPP.to_csv(\"NN_Data/Defense/receiving_pbp_OPP_081022.csv\", index = False)"
   ]
  },
  {
   "cell_type": "code",
   "execution_count": 222,
   "id": "f42d8b7c",
   "metadata": {},
   "outputs": [],
   "source": []
  },
  {
   "cell_type": "code",
   "execution_count": 1114,
   "id": "712374dc",
   "metadata": {
    "collapsed": true
   },
   "outputs": [
    {
     "data": {
      "text/html": [
       "<div>\n",
       "<style scoped>\n",
       "    .dataframe tbody tr th:only-of-type {\n",
       "        vertical-align: middle;\n",
       "    }\n",
       "\n",
       "    .dataframe tbody tr th {\n",
       "        vertical-align: top;\n",
       "    }\n",
       "\n",
       "    .dataframe thead th {\n",
       "        text-align: right;\n",
       "    }\n",
       "</style>\n",
       "<table border=\"1\" class=\"dataframe\">\n",
       "  <thead>\n",
       "    <tr style=\"text-align: right;\">\n",
       "      <th></th>\n",
       "      <th>season</th>\n",
       "      <th>week</th>\n",
       "      <th>gameId</th>\n",
       "      <th>eventId</th>\n",
       "      <th>teamId</th>\n",
       "      <th>playerId</th>\n",
       "      <th>actionType</th>\n",
       "      <th>targetType</th>\n",
       "      <th>targetDirection</th>\n",
       "      <th>targetDepth</th>\n",
       "      <th>...</th>\n",
       "      <th>DropType_descr</th>\n",
       "      <th>FP_yards</th>\n",
       "      <th>FP_TD</th>\n",
       "      <th>FP_receiving</th>\n",
       "      <th>FP_total</th>\n",
       "      <th>plays</th>\n",
       "      <th>deepChart</th>\n",
       "      <th>team</th>\n",
       "      <th>oppTeamId</th>\n",
       "      <th>nickName</th>\n",
       "    </tr>\n",
       "  </thead>\n",
       "  <tbody>\n",
       "    <tr>\n",
       "      <th>0</th>\n",
       "      <td>2020</td>\n",
       "      <td>1</td>\n",
       "      <td>2793</td>\n",
       "      <td>45</td>\n",
       "      <td>16</td>\n",
       "      <td>6499</td>\n",
       "      <td>2</td>\n",
       "      <td>44</td>\n",
       "      <td>3</td>\n",
       "      <td>-1</td>\n",
       "      <td>...</td>\n",
       "      <td>0/1 Step</td>\n",
       "      <td>0.6</td>\n",
       "      <td>0</td>\n",
       "      <td>1</td>\n",
       "      <td>1.6</td>\n",
       "      <td>1</td>\n",
       "      <td>1</td>\n",
       "      <td>ARI</td>\n",
       "      <td>13</td>\n",
       "      <td>Texans</td>\n",
       "    </tr>\n",
       "    <tr>\n",
       "      <th>1</th>\n",
       "      <td>2020</td>\n",
       "      <td>1</td>\n",
       "      <td>2793</td>\n",
       "      <td>50</td>\n",
       "      <td>16</td>\n",
       "      <td>7176</td>\n",
       "      <td>2</td>\n",
       "      <td>34</td>\n",
       "      <td>4</td>\n",
       "      <td>-4</td>\n",
       "      <td>...</td>\n",
       "      <td>0/1 Step</td>\n",
       "      <td>0.6</td>\n",
       "      <td>0</td>\n",
       "      <td>1</td>\n",
       "      <td>1.6</td>\n",
       "      <td>1</td>\n",
       "      <td>1</td>\n",
       "      <td>KC</td>\n",
       "      <td>13</td>\n",
       "      <td>Texans</td>\n",
       "    </tr>\n",
       "    <tr>\n",
       "      <th>2</th>\n",
       "      <td>2020</td>\n",
       "      <td>1</td>\n",
       "      <td>2793</td>\n",
       "      <td>55</td>\n",
       "      <td>16</td>\n",
       "      <td>374</td>\n",
       "      <td>2</td>\n",
       "      <td>4</td>\n",
       "      <td>10</td>\n",
       "      <td>5</td>\n",
       "      <td>...</td>\n",
       "      <td>0/1 Step</td>\n",
       "      <td>1.1</td>\n",
       "      <td>0</td>\n",
       "      <td>1</td>\n",
       "      <td>2.1</td>\n",
       "      <td>1</td>\n",
       "      <td>1</td>\n",
       "      <td>KC</td>\n",
       "      <td>13</td>\n",
       "      <td>Texans</td>\n",
       "    </tr>\n",
       "    <tr>\n",
       "      <th>3</th>\n",
       "      <td>2020</td>\n",
       "      <td>1</td>\n",
       "      <td>2793</td>\n",
       "      <td>60</td>\n",
       "      <td>16</td>\n",
       "      <td>4143</td>\n",
       "      <td>13</td>\n",
       "      <td>20</td>\n",
       "      <td>7</td>\n",
       "      <td>36</td>\n",
       "      <td>...</td>\n",
       "      <td>5 Step</td>\n",
       "      <td>0.0</td>\n",
       "      <td>0</td>\n",
       "      <td>0</td>\n",
       "      <td>0.0</td>\n",
       "      <td>1</td>\n",
       "      <td>1</td>\n",
       "      <td>LV</td>\n",
       "      <td>13</td>\n",
       "      <td>Texans</td>\n",
       "    </tr>\n",
       "    <tr>\n",
       "      <th>4</th>\n",
       "      <td>2020</td>\n",
       "      <td>1</td>\n",
       "      <td>2793</td>\n",
       "      <td>70</td>\n",
       "      <td>16</td>\n",
       "      <td>4143</td>\n",
       "      <td>13</td>\n",
       "      <td>32</td>\n",
       "      <td>5</td>\n",
       "      <td>-1</td>\n",
       "      <td>...</td>\n",
       "      <td>5 Step</td>\n",
       "      <td>0.0</td>\n",
       "      <td>0</td>\n",
       "      <td>0</td>\n",
       "      <td>0.0</td>\n",
       "      <td>1</td>\n",
       "      <td>1</td>\n",
       "      <td>LV</td>\n",
       "      <td>13</td>\n",
       "      <td>Texans</td>\n",
       "    </tr>\n",
       "    <tr>\n",
       "      <th>...</th>\n",
       "      <td>...</td>\n",
       "      <td>...</td>\n",
       "      <td>...</td>\n",
       "      <td>...</td>\n",
       "      <td>...</td>\n",
       "      <td>...</td>\n",
       "      <td>...</td>\n",
       "      <td>...</td>\n",
       "      <td>...</td>\n",
       "      <td>...</td>\n",
       "      <td>...</td>\n",
       "      <td>...</td>\n",
       "      <td>...</td>\n",
       "      <td>...</td>\n",
       "      <td>...</td>\n",
       "      <td>...</td>\n",
       "      <td>...</td>\n",
       "      <td>...</td>\n",
       "      <td>...</td>\n",
       "      <td>...</td>\n",
       "      <td>...</td>\n",
       "    </tr>\n",
       "    <tr>\n",
       "      <th>13837</th>\n",
       "      <td>2020</td>\n",
       "      <td>21</td>\n",
       "      <td>3061</td>\n",
       "      <td>865</td>\n",
       "      <td>16</td>\n",
       "      <td>374</td>\n",
       "      <td>2</td>\n",
       "      <td>4</td>\n",
       "      <td>7</td>\n",
       "      <td>15</td>\n",
       "      <td>...</td>\n",
       "      <td>5 Step</td>\n",
       "      <td>1.6</td>\n",
       "      <td>0</td>\n",
       "      <td>1</td>\n",
       "      <td>2.6</td>\n",
       "      <td>1</td>\n",
       "      <td>1</td>\n",
       "      <td>KC</td>\n",
       "      <td>30</td>\n",
       "      <td>Buccaneers</td>\n",
       "    </tr>\n",
       "    <tr>\n",
       "      <th>13838</th>\n",
       "      <td>2020</td>\n",
       "      <td>21</td>\n",
       "      <td>3061</td>\n",
       "      <td>875</td>\n",
       "      <td>16</td>\n",
       "      <td>6499</td>\n",
       "      <td>2</td>\n",
       "      <td>44</td>\n",
       "      <td>3</td>\n",
       "      <td>-5</td>\n",
       "      <td>...</td>\n",
       "      <td>3 Step</td>\n",
       "      <td>0.1</td>\n",
       "      <td>0</td>\n",
       "      <td>1</td>\n",
       "      <td>1.1</td>\n",
       "      <td>1</td>\n",
       "      <td>1</td>\n",
       "      <td>ARI</td>\n",
       "      <td>30</td>\n",
       "      <td>Buccaneers</td>\n",
       "    </tr>\n",
       "    <tr>\n",
       "      <th>13839</th>\n",
       "      <td>2020</td>\n",
       "      <td>21</td>\n",
       "      <td>3061</td>\n",
       "      <td>880</td>\n",
       "      <td>16</td>\n",
       "      <td>4143</td>\n",
       "      <td>2</td>\n",
       "      <td>5</td>\n",
       "      <td>5</td>\n",
       "      <td>4</td>\n",
       "      <td>...</td>\n",
       "      <td>0/1 Step</td>\n",
       "      <td>1.1</td>\n",
       "      <td>0</td>\n",
       "      <td>1</td>\n",
       "      <td>2.1</td>\n",
       "      <td>1</td>\n",
       "      <td>1</td>\n",
       "      <td>LV</td>\n",
       "      <td>30</td>\n",
       "      <td>Buccaneers</td>\n",
       "    </tr>\n",
       "    <tr>\n",
       "      <th>13840</th>\n",
       "      <td>2020</td>\n",
       "      <td>21</td>\n",
       "      <td>3061</td>\n",
       "      <td>890</td>\n",
       "      <td>16</td>\n",
       "      <td>3938</td>\n",
       "      <td>2</td>\n",
       "      <td>4</td>\n",
       "      <td>5</td>\n",
       "      <td>5</td>\n",
       "      <td>...</td>\n",
       "      <td>0/1 Step</td>\n",
       "      <td>0.4</td>\n",
       "      <td>0</td>\n",
       "      <td>1</td>\n",
       "      <td>1.4</td>\n",
       "      <td>1</td>\n",
       "      <td>1</td>\n",
       "      <td>MIA</td>\n",
       "      <td>30</td>\n",
       "      <td>Buccaneers</td>\n",
       "    </tr>\n",
       "    <tr>\n",
       "      <th>13841</th>\n",
       "      <td>2020</td>\n",
       "      <td>21</td>\n",
       "      <td>3061</td>\n",
       "      <td>895</td>\n",
       "      <td>16</td>\n",
       "      <td>374</td>\n",
       "      <td>13</td>\n",
       "      <td>4</td>\n",
       "      <td>5</td>\n",
       "      <td>10</td>\n",
       "      <td>...</td>\n",
       "      <td>Designed Rollout Right</td>\n",
       "      <td>0.0</td>\n",
       "      <td>0</td>\n",
       "      <td>0</td>\n",
       "      <td>0.0</td>\n",
       "      <td>1</td>\n",
       "      <td>1</td>\n",
       "      <td>KC</td>\n",
       "      <td>30</td>\n",
       "      <td>Buccaneers</td>\n",
       "    </tr>\n",
       "  </tbody>\n",
       "</table>\n",
       "<p>13842 rows × 45 columns</p>\n",
       "</div>"
      ],
      "text/plain": [
       "       season  week  gameId  eventId  teamId  playerId  actionType  \\\n",
       "0        2020     1    2793       45      16      6499           2   \n",
       "1        2020     1    2793       50      16      7176           2   \n",
       "2        2020     1    2793       55      16       374           2   \n",
       "3        2020     1    2793       60      16      4143          13   \n",
       "4        2020     1    2793       70      16      4143          13   \n",
       "...       ...   ...     ...      ...     ...       ...         ...   \n",
       "13837    2020    21    3061      865      16       374           2   \n",
       "13838    2020    21    3061      875      16      6499           2   \n",
       "13839    2020    21    3061      880      16      4143           2   \n",
       "13840    2020    21    3061      890      16      3938           2   \n",
       "13841    2020    21    3061      895      16       374          13   \n",
       "\n",
       "       targetType  targetDirection  targetDepth  ...          DropType_descr  \\\n",
       "0              44                3           -1  ...                0/1 Step   \n",
       "1              34                4           -4  ...                0/1 Step   \n",
       "2               4               10            5  ...                0/1 Step   \n",
       "3              20                7           36  ...                  5 Step   \n",
       "4              32                5           -1  ...                  5 Step   \n",
       "...           ...              ...          ...  ...                     ...   \n",
       "13837           4                7           15  ...                  5 Step   \n",
       "13838          44                3           -5  ...                  3 Step   \n",
       "13839           5                5            4  ...                0/1 Step   \n",
       "13840           4                5            5  ...                0/1 Step   \n",
       "13841           4                5           10  ...  Designed Rollout Right   \n",
       "\n",
       "       FP_yards  FP_TD  FP_receiving  FP_total  plays  deepChart  team  \\\n",
       "0           0.6      0             1       1.6      1          1   ARI   \n",
       "1           0.6      0             1       1.6      1          1    KC   \n",
       "2           1.1      0             1       2.1      1          1    KC   \n",
       "3           0.0      0             0       0.0      1          1    LV   \n",
       "4           0.0      0             0       0.0      1          1    LV   \n",
       "...         ...    ...           ...       ...    ...        ...   ...   \n",
       "13837       1.6      0             1       2.6      1          1    KC   \n",
       "13838       0.1      0             1       1.1      1          1   ARI   \n",
       "13839       1.1      0             1       2.1      1          1    LV   \n",
       "13840       0.4      0             1       1.4      1          1   MIA   \n",
       "13841       0.0      0             0       0.0      1          1    KC   \n",
       "\n",
       "       oppTeamId    nickName  \n",
       "0             13      Texans  \n",
       "1             13      Texans  \n",
       "2             13      Texans  \n",
       "3             13      Texans  \n",
       "4             13      Texans  \n",
       "...          ...         ...  \n",
       "13837         30  Buccaneers  \n",
       "13838         30  Buccaneers  \n",
       "13839         30  Buccaneers  \n",
       "13840         30  Buccaneers  \n",
       "13841         30  Buccaneers  \n",
       "\n",
       "[13842 rows x 45 columns]"
      ]
     },
     "execution_count": 1114,
     "metadata": {},
     "output_type": "execute_result"
    }
   ],
   "source": []
  },
  {
   "cell_type": "code",
   "execution_count": 223,
   "id": "0e5f3ccd",
   "metadata": {},
   "outputs": [],
   "source": [
    "# FP/route by defense coverage - defensive teams\n",
    "\n",
    "count = 0\n",
    "for i in np.unique(receiving_pbp_coverage_OPP['nickName']):\n",
    "    playerData = receiving_pbp_coverage_OPP[receiving_pbp_coverage_OPP['nickName'] == i]\n",
    "    if count == 0:\n",
    "        group_def = playerData.groupby(by=[\"nickName\",\"CoverageType_descr\"]).sum()\n",
    "        \n",
    "    else:\n",
    "        group_def = group_def.append(playerData.groupby(by=[\"nickName\",\"CoverageType_descr\"]).sum())\n",
    "    count += 1\n",
    "    \n",
    "group_def.reset_index(inplace=True)\n",
    "receiving_CoverageType_def = group_def[['nickName','CoverageType_descr','FP_yards', 'FP_TD','FP_receiving','FP_total','plays']]\n"
   ]
  },
  {
   "cell_type": "code",
   "execution_count": 224,
   "id": "3722b987",
   "metadata": {
    "scrolled": true
   },
   "outputs": [],
   "source": [
    "# SIS COVERAGE TYPE GROUPED BY TEAM\n",
    "dfRead_CoverageType_Team =  dfRead_CoverageType.groupby(by=[\"Team\", 'CoverageType']).sum()\n",
    "dfRead_CoverageType_Team.reset_index(inplace=True)"
   ]
  },
  {
   "cell_type": "code",
   "execution_count": null,
   "id": "18c219eb",
   "metadata": {},
   "outputs": [],
   "source": []
  },
  {
   "cell_type": "code",
   "execution_count": 225,
   "id": "0eccdc95",
   "metadata": {},
   "outputs": [],
   "source": [
    "# Merge receiving data with coverage type routes run.\n",
    "\n",
    "receiving_CoverageType_routesRun = pd.merge(receiving_CoverageType_def, \n",
    "                                dfRead_CoverageType_Team[['Team','CoverageType','Routes Run']], \n",
    "                                left_on = ['nickName','CoverageType_descr'], \n",
    "                          right_on=['Team','CoverageType', ], how = 'left')\n",
    "\n",
    "receiving_CoverageType_routesRun = receiving_CoverageType_routesRun.dropna(subset = ['Routes Run'])\n",
    "\n",
    "receiving_CoverageType_routesRun['FP/routes'] = receiving_CoverageType_routesRun['FP_total']/receiving_CoverageType_routesRun['Routes Run']\n",
    "\n",
    "receiving_CoverageType_routesRun = receiving_CoverageType_routesRun[['nickName','CoverageType_descr','FP_yards','FP_TD', 'FP_receiving' , 'FP_total', 'Routes Run', 'FP/routes','plays']]\n",
    "\n"
   ]
  },
  {
   "cell_type": "code",
   "execution_count": 226,
   "id": "9a960b95",
   "metadata": {},
   "outputs": [],
   "source": [
    "# Calculte frequency\n",
    "\n",
    "totalPlayCountTable = receiving_CoverageType_routesRun.groupby(by=[\"nickName\"]).sum()\n",
    "totalPlayCountTable.reset_index(inplace=True)\n",
    "totalPlayCountTable = totalPlayCountTable.rename(columns={\"plays\" : \"totalPlays\"})\n",
    "receiving_CoverageType_routesRun = pd.merge(receiving_CoverageType_routesRun, totalPlayCountTable[['nickName', 'totalPlays']], \n",
    "         left_on = ['nickName'], \n",
    "         right_on=['nickName'], how = 'left')\n",
    "receiving_CoverageType_routesRun['freq'] = receiving_CoverageType_routesRun['plays'] / receiving_CoverageType_routesRun['totalPlays']\n"
   ]
  },
  {
   "cell_type": "code",
   "execution_count": 1119,
   "id": "fd86e3d1",
   "metadata": {},
   "outputs": [],
   "source": [
    "receiving_CoverageType_routesRun.to_csv('Split/Receiving_CoverageType_def_2020_0817.csv', index = False)\n"
   ]
  },
  {
   "cell_type": "code",
   "execution_count": null,
   "id": "3c186b94",
   "metadata": {},
   "outputs": [],
   "source": []
  },
  {
   "cell_type": "markdown",
   "id": "71cb2a88",
   "metadata": {},
   "source": [
    "<h5> FP/route group by defense coverage - POOLED <h5>"
   ]
  },
  {
   "cell_type": "code",
   "execution_count": 1121,
   "id": "027842c9",
   "metadata": {},
   "outputs": [],
   "source": [
    "\n",
    "count = 0\n",
    "for i in np.unique(receiving_pbp_coverage['playerName']):\n",
    "    playerData = receiving_pbp_coverage[receiving_pbp_coverage['playerName'] == i]\n",
    "    if count == 0:\n",
    "        group = playerData.groupby(by=[\"team\", \"playerName\",\"CoverageType_pooled\"]).sum()\n",
    "        \n",
    "    else:\n",
    "        group = group.append(playerData.groupby(by=[\"team\", \"playerName\",\"CoverageType_pooled\"]).sum())\n",
    "    count += 1\n",
    "    \n",
    "group.reset_index(inplace=True)\n",
    "receiving_CoverageType_pooled = group[[\"team\", 'playerName','CoverageType_pooled','FP_yards', 'FP_TD','FP_receiving','FP_total', 'plays']]\n",
    "\n",
    "    "
   ]
  },
  {
   "cell_type": "code",
   "execution_count": null,
   "id": "eb235d9b",
   "metadata": {},
   "outputs": [],
   "source": []
  },
  {
   "cell_type": "code",
   "execution_count": 1123,
   "id": "350f5f3d",
   "metadata": {},
   "outputs": [],
   "source": [
    "# SIS dashboard coverage type routes run POOLED\n",
    "\n",
    "CoverageType_pooled = []\n",
    "\n",
    "for i in range(len(dfRead_CoverageType)):\n",
    "    if dfRead_CoverageType['CoverageType'][i] in ['Cover 0', 'Cover 1', 'Cover 2', 'Man Cover 2']:\n",
    "        CoverageType_pooled.append(\"Man\")\n",
    "    elif dfRead_CoverageType['CoverageType'][i] in ['Cover 3','Cover 4', 'Cover 6']:\n",
    "        CoverageType_pooled.append(\"Zone\")\n",
    "    else:\n",
    "        CoverageType_pooled.append(\"Other\")\n",
    "    \n",
    "dfRead_CoverageType['CoverageType_pooled'] = CoverageType_pooled\n",
    "\n",
    "# Pooling\n",
    "dfRead_CoverageType = dfRead_CoverageType.groupby(by=[\"Season\", \"Player\", \"Team\",\"CoverageType_pooled\"]).sum()\n",
    "dfRead_CoverageType.reset_index(inplace=True)\n"
   ]
  },
  {
   "cell_type": "code",
   "execution_count": null,
   "id": "6343bd8f",
   "metadata": {},
   "outputs": [],
   "source": []
  },
  {
   "cell_type": "code",
   "execution_count": 1124,
   "id": "d98187fe",
   "metadata": {},
   "outputs": [],
   "source": [
    "# Merge receiving data with coverage type routes run - POOLED\n",
    "\n",
    "receiving_CoverageType_routesRun_pooled = pd.merge(receiving_CoverageType_pooled, \n",
    "                                dfRead_CoverageType[['Player','CoverageType_pooled','Routes Run']], \n",
    "                                left_on = ['playerName','CoverageType_pooled'], \n",
    "                          right_on=['Player','CoverageType_pooled', ], how = 'left')\n",
    "\n",
    "receiving_CoverageType_routesRun_pooled = receiving_CoverageType_routesRun_pooled.dropna(subset = ['Routes Run'])\n",
    "\n",
    "receiving_CoverageType_routesRun_pooled['FP/routes'] = receiving_CoverageType_routesRun_pooled['FP_total']/receiving_CoverageType_routesRun_pooled['Routes Run']\n",
    "\n",
    "receiving_CoverageType_routesRun_pooled = receiving_CoverageType_routesRun_pooled[[\"team\", 'playerName','CoverageType_pooled','FP_yards','FP_TD', 'FP_receiving' , 'FP_total', 'Routes Run', 'FP/routes', 'plays']]\n"
   ]
  },
  {
   "cell_type": "code",
   "execution_count": 1125,
   "id": "cb542e11",
   "metadata": {},
   "outputs": [],
   "source": [
    "# Calculte frequency\n",
    "\n",
    "totalPlayCountTable = receiving_CoverageType_routesRun_pooled.groupby(by=[\"playerName\"]).sum()\n",
    "totalPlayCountTable.reset_index(inplace=True)\n",
    "totalPlayCountTable = totalPlayCountTable.rename(columns={\"plays\" : \"totalPlays\"})\n",
    "receiving_CoverageType_routesRun_pooled = pd.merge(receiving_CoverageType_routesRun_pooled, totalPlayCountTable[['playerName', 'totalPlays']], \n",
    "         left_on = ['playerName'], \n",
    "         right_on=['playerName'], how = 'left')\n",
    "receiving_CoverageType_routesRun_pooled['freq'] = receiving_CoverageType_routesRun_pooled['plays'] / receiving_CoverageType_routesRun_pooled['totalPlays']\n",
    "\n"
   ]
  },
  {
   "cell_type": "code",
   "execution_count": 1126,
   "id": "13171325",
   "metadata": {},
   "outputs": [],
   "source": [
    "\n",
    "receiving_CoverageType_routesRun_pooled.to_csv('Split/Receiving_CoverageType_pooled_2020_0817.csv', index = False)"
   ]
  },
  {
   "cell_type": "code",
   "execution_count": 407,
   "id": "7129d38a",
   "metadata": {},
   "outputs": [],
   "source": []
  },
  {
   "cell_type": "markdown",
   "id": "20516571",
   "metadata": {},
   "source": [
    "<h5> FP/route group by defense coverage - POOLED - defensive view <h5>"
   ]
  },
  {
   "cell_type": "code",
   "execution_count": 1127,
   "id": "e5f1fe48",
   "metadata": {},
   "outputs": [],
   "source": [
    "# Merge PBP with opponent teams \n",
    "\n",
    "receiving_pbp_coverage_OPP = pd.merge(receiving_pbp_coverage, preSnapDefenseTeam[['season', 'week', 'gameId','oppTeamId', 'nickName']], \n",
    "         left_on = ['season', 'week', 'gameId'], \n",
    "                          right_on=['season', 'week', 'gameId'], how = 'left')\n",
    "receiving_pbp_coverage_OPP = receiving_pbp_coverage_OPP[receiving_pbp_coverage_OPP['teamId'] != receiving_pbp_coverage_OPP['oppTeamId']].reset_index(drop = True)\n"
   ]
  },
  {
   "cell_type": "code",
   "execution_count": 1128,
   "id": "592e8804",
   "metadata": {},
   "outputs": [],
   "source": [
    "# FP/route by defense coverage - defensive teams\n",
    "\n",
    "count = 0\n",
    "for i in np.unique(receiving_pbp_coverage_OPP['nickName']):\n",
    "    playerData = receiving_pbp_coverage_OPP[receiving_pbp_coverage_OPP['nickName'] == i]\n",
    "    if count == 0:\n",
    "        group_def = playerData.groupby(by=[\"nickName\",\"CoverageType_pooled\"]).sum()\n",
    "        \n",
    "    else:\n",
    "        group_def = group_def.append(playerData.groupby(by=[\"nickName\",\"CoverageType_pooled\"]).sum())\n",
    "    count += 1\n",
    "    \n",
    "group_def.reset_index(inplace=True)\n",
    "receiving_CoverageType_def_pooled = group_def[['nickName','CoverageType_pooled','FP_yards', 'FP_TD','FP_receiving','FP_total', 'plays']]\n"
   ]
  },
  {
   "cell_type": "code",
   "execution_count": 1129,
   "id": "1a22faba",
   "metadata": {},
   "outputs": [],
   "source": [
    "# SIS DOWNLOAD COVERAGE TYPE GROUPING BY TEAM\n",
    "dfRead_CoverageType_Team_pooled =  dfRead_CoverageType.groupby(by=[\"Team\", 'CoverageType_pooled']).sum()\n",
    "dfRead_CoverageType_Team_pooled.reset_index(inplace=True)"
   ]
  },
  {
   "cell_type": "code",
   "execution_count": null,
   "id": "3a269f6a",
   "metadata": {},
   "outputs": [],
   "source": []
  },
  {
   "cell_type": "code",
   "execution_count": 1130,
   "id": "8df460b8",
   "metadata": {},
   "outputs": [],
   "source": [
    "# Merge receiving data with coverage type routes run.\n",
    "\n",
    "\n",
    "receiving_CoverageType_routesRun_def_pooled = pd.merge(receiving_CoverageType_def_pooled, \n",
    "                                dfRead_CoverageType_Team_pooled[['Team','CoverageType_pooled','Routes Run']], \n",
    "                                left_on = ['nickName','CoverageType_pooled'], \n",
    "                          right_on=['Team','CoverageType_pooled', ], how = 'left')\n",
    "\n",
    "receiving_CoverageType_routesRun_def_pooled = receiving_CoverageType_routesRun_def_pooled.dropna(subset = ['Routes Run'])\n",
    "\n",
    "receiving_CoverageType_routesRun_def_pooled['FP/routes'] = receiving_CoverageType_routesRun_def_pooled['FP_total']/receiving_CoverageType_routesRun_def_pooled['Routes Run']\n",
    "\n",
    "receiving_CoverageType_routesRun_def_pooled = receiving_CoverageType_routesRun_def_pooled[['nickName','CoverageType_pooled','FP_yards','FP_TD', 'FP_receiving' , 'FP_total', 'Routes Run', 'FP/routes', 'plays']]\n"
   ]
  },
  {
   "cell_type": "code",
   "execution_count": 1131,
   "id": "e5ae9eb7",
   "metadata": {},
   "outputs": [],
   "source": [
    "# Calculte frequency\n",
    "\n",
    "totalPlayCountTable = receiving_CoverageType_routesRun_def_pooled.groupby(by=[\"nickName\"]).sum()\n",
    "totalPlayCountTable.reset_index(inplace=True)\n",
    "totalPlayCountTable = totalPlayCountTable.rename(columns={\"plays\" : \"totalPlays\"})\n",
    "receiving_CoverageType_routesRun_def_pooled = pd.merge(receiving_CoverageType_routesRun_def_pooled, totalPlayCountTable[['nickName', 'totalPlays']], \n",
    "         left_on = ['nickName'], \n",
    "         right_on=['nickName'], how = 'left')\n",
    "receiving_CoverageType_routesRun_def_pooled['freq'] = receiving_CoverageType_routesRun_def_pooled['plays'] / receiving_CoverageType_routesRun_def_pooled['totalPlays']\n"
   ]
  },
  {
   "cell_type": "code",
   "execution_count": 1132,
   "id": "e78274e2",
   "metadata": {},
   "outputs": [],
   "source": [
    "\n",
    "receiving_CoverageType_routesRun_def_pooled.to_csv('Split/Receiving_CoverageType_def_pooled_2020_0817.csv', index = False)\n"
   ]
  },
  {
   "cell_type": "code",
   "execution_count": null,
   "id": "ea655955",
   "metadata": {},
   "outputs": [],
   "source": []
  },
  {
   "cell_type": "markdown",
   "id": "3ecf0e7e",
   "metadata": {},
   "source": [
    "<h3> By Drop Type <h3>"
   ]
  },
  {
   "cell_type": "code",
   "execution_count": 228,
   "id": "027f1fa8",
   "metadata": {},
   "outputs": [],
   "source": [
    "# By Drop Type\n",
    "count = 0\n",
    "for i in np.unique(receiving_pbp_coverage['playerName']):\n",
    "    playerData = receiving_pbp_coverage[receiving_pbp_coverage['playerName'] == i]\n",
    "    if count == 0:\n",
    "        group = playerData.groupby(by=[\"team\", \"playerName\",\"DropType_descr\"]).sum()\n",
    "        \n",
    "    else:\n",
    "        group = group.append(playerData.groupby(by=[\"team\", \"playerName\",\"DropType_descr\"]).sum())\n",
    "    count += 1\n",
    "    \n",
    "group.reset_index(inplace=True)\n",
    "\n",
    "\n",
    "#group['FP/routes'] = group['FP_total']/group['routesRun']\n",
    "\n",
    "\n",
    "#receiving_DropType = group[['playerId','DropType_descr','routesRun','FP_yards', 'FP_TD','FP_receiving','FP_total','FP/routes']]\n",
    "\n",
    "\n",
    "receiving_DropType = group[[\"team\", 'playerName','DropType_descr','FP_yards', 'FP_TD','FP_receiving','FP_total', 'plays']]\n",
    "\n"
   ]
  },
  {
   "cell_type": "code",
   "execution_count": null,
   "id": "04c87806",
   "metadata": {},
   "outputs": [],
   "source": []
  },
  {
   "cell_type": "code",
   "execution_count": 231,
   "id": "21b85b7e",
   "metadata": {},
   "outputs": [],
   "source": [
    "# Load all routes by by drop types (downloads from SIS dashboard)\n",
    "#directory = 'SIS Dashboard/2020Archive/DropType/'\n",
    "directory = 'SIS Dashboard/DropType/'\n",
    "count = 0\n",
    "for filename in os.listdir(directory):\n",
    "    if 'csv' not in filename:\n",
    "        continue\n",
    "    f = os.path.join(directory, filename)\n",
    "    fname = filename[:filename.index('.csv')]\n",
    "    if count == 0:\n",
    "        dfRead_DropType = pd.read_csv(f) \n",
    "        dfRead_DropType['DropType'] = fname\n",
    "    else:\n",
    "        dfRead_DropType_tmp = pd.read_csv(f)\n",
    "        dfRead_DropType_tmp['DropType'] = fname\n",
    "        dfRead_DropType = dfRead_DropType.append(dfRead_DropType_tmp, ignore_index=True)\n",
    "    count += 1\n",
    "    \n",
    "DropType = []\n",
    "for i in range(len(dfRead_DropType)):\n",
    "    if  dfRead_DropType['DropType'][i] == \"0_1 Step\":\n",
    "        DropType.append(\"0/1 Step\")\n",
    "    else:\n",
    "        DropType.append(dfRead_DropType['DropType'][i])        \n",
    "dfRead_DropType['DropType'] = DropType     "
   ]
  },
  {
   "cell_type": "code",
   "execution_count": 232,
   "id": "0bca796d",
   "metadata": {},
   "outputs": [],
   "source": [
    "# Merge receiving data with drop type routes run.\n",
    "\n",
    "receiving_DropType_routesRun = pd.merge(receiving_DropType, \n",
    "                                dfRead_DropType[['Player','DropType','Routes Run']], \n",
    "                                left_on = ['playerName','DropType_descr'], \n",
    "                          right_on=['Player','DropType', ], how = 'left')\n",
    "\n",
    "receiving_DropType_routesRun = receiving_DropType_routesRun.dropna(subset = ['Routes Run'])\n",
    "\n",
    "receiving_DropType_routesRun['FP/routes'] = receiving_DropType_routesRun['FP_total']/receiving_DropType_routesRun['Routes Run']\n",
    "\n",
    "receiving_DropType_routesRun = receiving_DropType_routesRun[[\"team\", 'playerName','Routes Run','DropType_descr','FP_yards','FP_TD', 'FP_receiving' , 'FP_total', 'Routes Run', 'FP/routes', 'plays']]\n"
   ]
  },
  {
   "cell_type": "code",
   "execution_count": 233,
   "id": "1168a528",
   "metadata": {},
   "outputs": [],
   "source": [
    "# Calculte frequency\n",
    "\n",
    "totalPlayCountTable = receiving_DropType_routesRun.groupby(by=[\"playerName\"]).sum()\n",
    "totalPlayCountTable.reset_index(inplace=True)\n",
    "totalPlayCountTable = totalPlayCountTable.rename(columns={\"plays\" : \"totalPlays\"})\n",
    "receiving_DropType_routesRun = pd.merge(receiving_DropType_routesRun, totalPlayCountTable[['playerName', 'totalPlays']], \n",
    "         left_on = ['playerName'], \n",
    "         right_on=['playerName'], how = 'left')\n",
    "receiving_DropType_routesRun['freq'] = receiving_DropType_routesRun['plays'] / receiving_DropType_routesRun['totalPlays']\n"
   ]
  },
  {
   "cell_type": "code",
   "execution_count": 1138,
   "id": "6ce9cf1e",
   "metadata": {},
   "outputs": [],
   "source": [
    "receiving_DropType_routesRun.to_csv('Split/Receiving_DropType_2020_0817.csv', index = False)"
   ]
  },
  {
   "cell_type": "code",
   "execution_count": 460,
   "id": "cf44572d",
   "metadata": {},
   "outputs": [],
   "source": []
  },
  {
   "cell_type": "markdown",
   "id": "3b9d784f",
   "metadata": {},
   "source": [
    "<h5> Receiving By Drop Type - defense<h5>"
   ]
  },
  {
   "cell_type": "code",
   "execution_count": 1139,
   "id": "7a2b3ad7",
   "metadata": {},
   "outputs": [],
   "source": [
    "# FP/route by defense coverage - defensive teams\n",
    "\n",
    "count = 0\n",
    "for i in np.unique(receiving_pbp_coverage_OPP['nickName']):\n",
    "    playerData = receiving_pbp_coverage_OPP[receiving_pbp_coverage_OPP['nickName'] == i]\n",
    "    if count == 0:\n",
    "        group_def = playerData.groupby(by=[\"nickName\",\"DropType_descr\"]).sum()\n",
    "\n",
    "    else:\n",
    "        group_def = group_def.append(playerData.groupby(by=[\"nickName\",\"DropType_descr\"]).sum())\n",
    "    count += 1\n",
    "    \n",
    "group_def.reset_index(inplace=True)\n",
    "receiving_DropType_def = group_def[['nickName','DropType_descr','FP_yards', 'FP_TD','FP_receiving','FP_total', 'plays']]\n"
   ]
  },
  {
   "cell_type": "code",
   "execution_count": 1140,
   "id": "6f61259c",
   "metadata": {},
   "outputs": [],
   "source": [
    "# SIS DOWNLOAD DROP TYPE GROUPING BY TEAM\n",
    "dfRead_DropType_Team =  dfRead_DropType.groupby(by=[\"Team\", 'DropType']).sum()\n",
    "dfRead_DropType_Team.reset_index(inplace=True)"
   ]
  },
  {
   "cell_type": "code",
   "execution_count": 1141,
   "id": "916a1de1",
   "metadata": {},
   "outputs": [],
   "source": [
    "# Merge receiving data with drop type routes run - Defense\n",
    "\n",
    "receiving_DropType_routesRun = pd.merge(receiving_DropType_def, \n",
    "                                dfRead_DropType_Team[['Team','DropType','Routes Run']], \n",
    "                                left_on = ['nickName','DropType_descr'], \n",
    "                          right_on=['Team','DropType', ], how = 'left')\n",
    "\n",
    "receiving_DropType_routesRun = receiving_DropType_routesRun.dropna(subset = ['Routes Run'])\n",
    "\n",
    "receiving_DropType_routesRun['FP/routes'] = receiving_DropType_routesRun['FP_total']/receiving_DropType_routesRun['Routes Run']\n",
    "\n",
    "receiving_DropType_routesRun = receiving_DropType_routesRun[['nickName','Routes Run','DropType_descr','FP_yards','FP_TD', 'FP_receiving' , 'FP_total', 'Routes Run', 'FP/routes', 'plays']]\n"
   ]
  },
  {
   "cell_type": "code",
   "execution_count": 1142,
   "id": "ab96cdb5",
   "metadata": {},
   "outputs": [],
   "source": [
    "# Calculte frequency\n",
    "\n",
    "totalPlayCountTable = receiving_DropType_routesRun.groupby(by=[\"nickName\"]).sum()\n",
    "totalPlayCountTable.reset_index(inplace=True)\n",
    "totalPlayCountTable = totalPlayCountTable.rename(columns={\"plays\" : \"totalPlays\"})\n",
    "receiving_DropType_routesRun = pd.merge(receiving_DropType_routesRun, totalPlayCountTable[['nickName', 'totalPlays']], \n",
    "         left_on = ['nickName'], \n",
    "         right_on=['nickName'], how = 'left')\n",
    "receiving_DropType_routesRun['freq'] = receiving_DropType_routesRun['plays'] / receiving_DropType_routesRun['totalPlays']\n"
   ]
  },
  {
   "cell_type": "code",
   "execution_count": 1143,
   "id": "80aef933",
   "metadata": {},
   "outputs": [],
   "source": [
    "\n",
    "receiving_DropType_routesRun.to_csv('Split/Receiving_DropType_def_2020_0817.csv', index = False)\n"
   ]
  },
  {
   "cell_type": "code",
   "execution_count": null,
   "id": "48c45fc1",
   "metadata": {},
   "outputs": [],
   "source": []
  },
  {
   "cell_type": "markdown",
   "id": "075bde5e",
   "metadata": {},
   "source": [
    "<h5> RECEIVING FP/Routes by route type  <h5>"
   ]
  },
  {
   "cell_type": "code",
   "execution_count": 236,
   "id": "8db0f93c",
   "metadata": {},
   "outputs": [],
   "source": [
    "#By Route Type\n",
    "count = 0\n",
    "for i in np.unique(receiving_pbp_coverage['playerName']):\n",
    "    playerData = receiving_pbp_coverage[receiving_pbp_coverage['playerName'] == i]\n",
    "    if count == 0:\n",
    "        group = playerData.groupby(by=[\"team\",\"playerName\",\"TargetType_descr\"]).sum()\n",
    "        \n",
    "    else:\n",
    "        group = group.append(playerData.groupby(by=[\"team\",\"playerName\",\"TargetType_descr\"]).sum())\n",
    "    count += 1\n",
    "    \n",
    "group.reset_index(inplace=True)\n",
    "\n",
    "\n",
    "receiving_TargetType = group[[\"team\",'playerName','TargetType_descr','FP_yards','FP_TD','FP_receiving','FP_total','plays']]\n",
    "\n"
   ]
  },
  {
   "cell_type": "code",
   "execution_count": 237,
   "id": "4350bc0f",
   "metadata": {},
   "outputs": [],
   "source": [
    "# Load all routes by by route types (downloads from SIS dashboard)\n",
    "#directory = 'SIS Dashboard/2020Archive/RouteType/'\n",
    "directory = 'SIS Dashboard/RouteType/'\n",
    "count = 0\n",
    "for filename in os.listdir(directory):\n",
    "    if 'csv' not in filename:\n",
    "        continue\n",
    "    f = os.path.join(directory, filename)\n",
    "    fname = filename[:filename.index('.csv')]\n",
    "    if count == 0:\n",
    "        dfRead_RouteType = pd.read_csv(f) \n",
    "        dfRead_RouteType['RouteType'] = fname\n",
    "    else:\n",
    "        dfRead_RouteType_tmp = pd.read_csv(f)\n",
    "        dfRead_RouteType_tmp['RouteType'] = fname\n",
    "        dfRead_RouteType = dfRead_RouteType.append(dfRead_RouteType_tmp, ignore_index=True)\n",
    "\n",
    "    count += 1\n"
   ]
  },
  {
   "cell_type": "code",
   "execution_count": 238,
   "id": "6c8a5179",
   "metadata": {},
   "outputs": [],
   "source": [
    "# Merge receiving data with route types routes run.\n",
    "\n",
    "receiving_pbp_coverage_routetype = pd.merge(receiving_TargetType, \n",
    "                                dfRead_RouteType[['Player','RouteType','Routes Run']], \n",
    "                                left_on = ['playerName','TargetType_descr'], \n",
    "                          right_on=['Player','RouteType', ], how = 'left')\n",
    "\n",
    "receiving_pbp_coverage_routetype = receiving_pbp_coverage_routetype.dropna(subset = ['Routes Run'])\n",
    "\n",
    "receiving_pbp_coverage_routetype['FP/routes'] = receiving_pbp_coverage_routetype['FP_total']/receiving_pbp_coverage_routetype['Routes Run']\n",
    "\n"
   ]
  },
  {
   "cell_type": "code",
   "execution_count": 247,
   "id": "15461a62",
   "metadata": {},
   "outputs": [],
   "source": [
    "# Post process map to target type NUMBERING\n",
    "\n",
    "receiving_RouteTree = receiving_pbp_coverage_routetype.reset_index(drop = True).copy()\n",
    "routeTree = pd.read_csv(\"RouteTree.csv\", index_col = False)\n",
    "\n",
    "targetTypeMap = []\n",
    "for i in range(len(receiving_RouteTree)):\n",
    "    try:\n",
    "        ind = receiving_RouteTree['TargetType_descr'][i].index(\"-\")\n",
    "        targetTypeMap.append(receiving_RouteTree['TargetType_descr'][i][:ind - 1])\n",
    "    except:\n",
    "        targetTypeMap.append(receiving_RouteTree['TargetType_descr'][i])\n",
    "receiving_RouteTree['targetTypeMap'] = targetTypeMap\n",
    "\n",
    "receiving_RouteTree = pd.merge(receiving_RouteTree, routeTree[['All', 'SIS']], left_on = ['targetTypeMap'],\n",
    "                          right_on=['All'], how = 'left')\n",
    "\n",
    "receiving_RouteTree = receiving_RouteTree.rename(columns={\"SIS\" : \"route\"})\n",
    "receiving_RouteTree = receiving_RouteTree.drop(columns = ['All'])"
   ]
  },
  {
   "cell_type": "code",
   "execution_count": 262,
   "id": "afdd35d8",
   "metadata": {},
   "outputs": [],
   "source": [
    "receiving_RouteTree = receiving_RouteTree[[\"team\",'playerName','route','FP_yards','FP_TD','FP_receiving','FP/routes', 'plays']]\n"
   ]
  },
  {
   "cell_type": "code",
   "execution_count": 249,
   "id": "83f34a14",
   "metadata": {},
   "outputs": [],
   "source": [
    "# Calculte frequency\n",
    "\n",
    "totalPlayCountTable = receiving_RouteTree.groupby(by=[\"playerName\"]).sum()\n",
    "totalPlayCountTable.reset_index(inplace=True)\n",
    "totalPlayCountTable = totalPlayCountTable.rename(columns={\"plays\" : \"totalPlays\"})\n",
    "receiving_RouteTree = pd.merge(receiving_RouteTree, totalPlayCountTable[['playerName', 'totalPlays']], \n",
    "         left_on = ['playerName'], \n",
    "         right_on=['playerName'], how = 'left')\n",
    "receiving_RouteTree['freq'] = receiving_RouteTree['plays'] / receiving_RouteTree['totalPlays']\n",
    "\n"
   ]
  },
  {
   "cell_type": "code",
   "execution_count": 1150,
   "id": "a3ef4141",
   "metadata": {},
   "outputs": [],
   "source": [
    "\n",
    "receiving_RouteTree.to_csv('Split/Receiving_RouteType_2020_0817.csv', index = False)"
   ]
  },
  {
   "cell_type": "code",
   "execution_count": null,
   "id": "08c7cf9c",
   "metadata": {},
   "outputs": [],
   "source": []
  },
  {
   "cell_type": "code",
   "execution_count": null,
   "id": "ab45fa06",
   "metadata": {},
   "outputs": [],
   "source": []
  },
  {
   "cell_type": "markdown",
   "id": "af0ec86a",
   "metadata": {},
   "source": [
    "<h5> Receiving By Route Type - defense <h5>"
   ]
  },
  {
   "cell_type": "code",
   "execution_count": 1151,
   "id": "cbe35bd1",
   "metadata": {},
   "outputs": [],
   "source": [
    "# FP/route by route type - defensive teams\n",
    "count = 0\n",
    "for i in np.unique(receiving_pbp_coverage_OPP['nickName']):\n",
    "    playerData = receiving_pbp_coverage_OPP[receiving_pbp_coverage_OPP['nickName'] == i]\n",
    "    if count == 0:\n",
    "        group = playerData.groupby(by=[\"nickName\",\"TargetType_descr\"]).sum()\n",
    "        \n",
    "    else:\n",
    "        group = group.append(playerData.groupby(by=[\"nickName\",\"TargetType_descr\"]).sum())\n",
    "    count += 1\n",
    "\n",
    "group.reset_index(inplace=True)\n",
    "\n",
    "\n",
    "receiving_TargetType_def = group[['nickName','TargetType_descr','FP_yards','FP_TD','FP_receiving','FP_total', 'plays']]"
   ]
  },
  {
   "cell_type": "code",
   "execution_count": 1152,
   "id": "12767c9a",
   "metadata": {},
   "outputs": [],
   "source": [
    "# SIS DOWNLOAD ROUTE TYPE GROUPING BY TEAM\n",
    "dfRead_RouteType_Team =  dfRead_RouteType.groupby(by=[\"Team\", 'RouteType']).sum()\n",
    "dfRead_RouteType_Team.reset_index(inplace=True)"
   ]
  },
  {
   "cell_type": "code",
   "execution_count": 1153,
   "id": "951cc0ad",
   "metadata": {},
   "outputs": [],
   "source": [
    "# Merge receiving data with route types routes run - defense\n",
    "\n",
    "receiving_pbp_coverage_routetype = pd.merge(receiving_TargetType_def, \n",
    "                                dfRead_RouteType_Team[['Team','RouteType','Routes Run']], \n",
    "                                left_on = ['nickName','TargetType_descr'], \n",
    "                          right_on=['Team','RouteType', ], how = 'left')\n",
    "\n",
    "receiving_pbp_coverage_routetype = receiving_pbp_coverage_routetype.dropna(subset = ['Routes Run'])\n",
    "\n",
    "receiving_pbp_coverage_routetype['FP/routes'] = receiving_pbp_coverage_routetype['FP_total']/receiving_pbp_coverage_routetype['Routes Run']\n"
   ]
  },
  {
   "cell_type": "code",
   "execution_count": 568,
   "id": "db3da5dc",
   "metadata": {},
   "outputs": [],
   "source": [
    "#receiving_pbp_coverage_routetype.to_csv('Split/Receiving_RouteType_def_0806.csv')"
   ]
  },
  {
   "cell_type": "code",
   "execution_count": 1154,
   "id": "8a52fe64",
   "metadata": {},
   "outputs": [],
   "source": [
    "# Post processing map to route NUMBERING\n",
    "\n",
    "\n",
    "receiving_RouteTree = receiving_pbp_coverage_routetype.reset_index(drop = True).copy()\n",
    "routeTree = pd.read_csv(\"RouteTree.csv\", index_col = False)\n",
    "\n",
    "targetTypeMap = []\n",
    "for i in range(len(receiving_RouteTree)):\n",
    "    try:\n",
    "        ind = receiving_RouteTree['TargetType_descr'][i].index(\"-\")\n",
    "        targetTypeMap.append(receiving_RouteTree['TargetType_descr'][i][:ind - 1])\n",
    "    except:\n",
    "        targetTypeMap.append(receiving_RouteTree['TargetType_descr'][i])\n",
    "receiving_RouteTree['targetTypeMap'] = targetTypeMap\n",
    "\n",
    "receiving_RouteTree = pd.merge(receiving_RouteTree, routeTree[['All', 'SIS']], left_on = ['targetTypeMap'],\n",
    "                          right_on=['All'], how = 'left')\n",
    "\n",
    "receiving_RouteTree = receiving_RouteTree.rename(columns={\"SIS\" : \"route\"})\n",
    "receiving_RouteTree = receiving_RouteTree.drop(columns = ['All'])\n",
    "\n",
    "receiving_RouteTree = receiving_RouteTree[[\"nickName\",'route','FP_yards','FP_TD','FP_receiving','FP/routes', 'plays']]\n"
   ]
  },
  {
   "cell_type": "code",
   "execution_count": 1155,
   "id": "cc167cbe",
   "metadata": {},
   "outputs": [],
   "source": [
    "# Calculte frequency\n",
    "\n",
    "totalPlayCountTable = receiving_RouteTree.groupby(by=[\"nickName\"]).sum()\n",
    "totalPlayCountTable.reset_index(inplace=True)\n",
    "totalPlayCountTable = totalPlayCountTable.rename(columns={\"plays\" : \"totalPlays\"})\n",
    "receiving_RouteTree = pd.merge(receiving_RouteTree, totalPlayCountTable[['nickName', 'totalPlays']], \n",
    "         left_on = ['nickName'], \n",
    "         right_on=['nickName'], how = 'left')\n",
    "receiving_RouteTree['freq'] = receiving_RouteTree['plays'] / receiving_RouteTree['totalPlays']\n"
   ]
  },
  {
   "cell_type": "code",
   "execution_count": 1156,
   "id": "0e69b5f6",
   "metadata": {},
   "outputs": [],
   "source": [
    "\n",
    "receiving_RouteTree.to_csv('Split/Receiving_RouteType_def_2020_0817.csv', index = False)"
   ]
  },
  {
   "cell_type": "code",
   "execution_count": null,
   "id": "62907cf9",
   "metadata": {},
   "outputs": [],
   "source": []
  },
  {
   "cell_type": "code",
   "execution_count": null,
   "id": "e44a8660",
   "metadata": {},
   "outputs": [],
   "source": []
  },
  {
   "cell_type": "code",
   "execution_count": null,
   "id": "baaf81a1",
   "metadata": {},
   "outputs": [],
   "source": [
    "#FP/route run for receivers and TE for the following:\n",
    "\n",
    "#for WRs/TEs\n",
    "#man and zone (coverage type to be more nuanced as well)\n",
    "#Drop Type\n",
    "#Route Type\n",
    "#inside vs outside, IE what were his fp/route run in the slot vs outside slot"
   ]
  },
  {
   "cell_type": "code",
   "execution_count": null,
   "id": "7fb69045",
   "metadata": {},
   "outputs": [],
   "source": []
  },
  {
   "cell_type": "code",
   "execution_count": null,
   "id": "1ecbe7c5",
   "metadata": {},
   "outputs": [],
   "source": []
  },
  {
   "cell_type": "markdown",
   "id": "04ea8a22",
   "metadata": {},
   "source": [
    "# Rushing"
   ]
  },
  {
   "cell_type": "code",
   "execution_count": 1157,
   "id": "4e3478d2",
   "metadata": {},
   "outputs": [],
   "source": [
    "# Merge receiving with coverage types\n",
    "rushing_pbp_coverage = pd.merge(rushing_pbp_map, \n",
    "                                presnapDefense_pbp_map[['season', 'week', 'gameId', 'eventId', 'coverageSchemeType', 'CoverageType_descr']], \n",
    "                                left_on = ['season', 'week', 'gameId', 'eventId'], \n",
    "                          right_on=['season', 'week', 'gameId', 'eventId'], how = 'left')\n"
   ]
  },
  {
   "cell_type": "code",
   "execution_count": 1158,
   "id": "8768cbd9",
   "metadata": {},
   "outputs": [],
   "source": [
    "#2021 only\n",
    "#rushing_pbp_coverage= rushing_pbp_coverage[rushing_pbp_coverage['season'] == 2021].reset_index(drop = True)\n",
    "\n",
    "rushing_pbp_coverage= rushing_pbp_coverage[rushing_pbp_coverage['season'] == 2020].reset_index(drop = True)\n"
   ]
  },
  {
   "cell_type": "code",
   "execution_count": 1159,
   "id": "a63f6d3b",
   "metadata": {},
   "outputs": [],
   "source": [
    "# Add FP yards and touchdown\n",
    "rushing_pbp_coverage['FP_yards'] = rushing_pbp_coverage['yards'] * 0.1\n",
    "\n",
    "FP_TD= []\n",
    "#passing_pbp_coverage['FP_TD'] = 0\n",
    "for i in range(len(rushing_pbp_coverage)):\n",
    "    if rushing_pbp_coverage['scoreType'][i] == 6:\n",
    "        FP_TD.append(6)\n",
    "    else:\n",
    "        FP_TD.append(0)\n",
    "rushing_pbp_coverage['FP_TD'] = FP_TD"
   ]
  },
  {
   "cell_type": "code",
   "execution_count": 1160,
   "id": "5b0b0020",
   "metadata": {},
   "outputs": [],
   "source": [
    "# FP rushing\n",
    "FP_fumbleLost = []\n",
    "\n",
    "for i in range(len(rushing_pbp_coverage)):\n",
    "    if rushing_pbp_coverage['fumbleLost'][i] == False:\n",
    "        FP_fumbleLost.append(0)\n",
    "    else: \n",
    "        FP_fumbleLost.append(-1)\n",
    "rushing_pbp_coverage['FP_fumbleLost'] = FP_fumbleLost"
   ]
  },
  {
   "cell_type": "code",
   "execution_count": 1161,
   "id": "74a88b93",
   "metadata": {},
   "outputs": [],
   "source": [
    "rushing_pbp_coverage['FP_total'] = rushing_pbp_coverage['FP_yards'] +  rushing_pbp_coverage['FP_TD'] + rushing_pbp_coverage['FP_fumbleLost']\n",
    "\n"
   ]
  },
  {
   "cell_type": "code",
   "execution_count": 1162,
   "id": "71eed525",
   "metadata": {},
   "outputs": [],
   "source": [
    "# define a touch\n",
    "\n",
    "touch = []\n",
    "for i in range(len(rushing_pbp_coverage)):\n",
    "    if rushing_pbp_coverage['ActionType_descr'][i] == \"Carry\":\n",
    "        touch.append(1)\n",
    "    else:\n",
    "        touch.append(0)\n",
    "\n",
    "rushing_pbp_coverage['touch'] = touch"
   ]
  },
  {
   "cell_type": "code",
   "execution_count": 1163,
   "id": "e3ed59eb",
   "metadata": {},
   "outputs": [],
   "source": [
    "rushing_pbp_coverage['plays'] = 1"
   ]
  },
  {
   "cell_type": "code",
   "execution_count": 1164,
   "id": "28196977",
   "metadata": {},
   "outputs": [],
   "source": [
    "blockingSchemeType_pooled = []\n",
    "\n",
    "for i in range(len(rushing_pbp_coverage)):\n",
    "    if ('pull' in str(rushing_pbp_coverage['blockingSchemeType_descr'][i])) | (rushing_pbp_coverage['blockingSchemeType_descr'][i] == 'Duo'):\n",
    "        blockingSchemeType_pooled.append(\"Gap\")\n",
    "    elif (rushing_pbp_coverage['blockingSchemeType_descr'][i] == 'Zone') | (rushing_pbp_coverage['blockingSchemeType_descr'][i] == 'Split Zone'):\n",
    "        blockingSchemeType_pooled.append(\"Zone\")\n",
    "    else:\n",
    "        blockingSchemeType_pooled.append(\"Other\")\n",
    "\n",
    "rushing_pbp_coverage['blockingSchemeType_pooled'] = blockingSchemeType_pooled        \n",
    "\n",
    "#Gap: Anything with \"pull\" in the name (including \"false pull\"), as well as Duo\n",
    "#Zone:Zone, Split Zone\n",
    "#Other: Everything else\n"
   ]
  },
  {
   "cell_type": "code",
   "execution_count": null,
   "id": "97ac704b",
   "metadata": {},
   "outputs": [],
   "source": []
  },
  {
   "cell_type": "code",
   "execution_count": 1166,
   "id": "2bbdabfb",
   "metadata": {},
   "outputs": [],
   "source": [
    "# Map rushing to deep chart - LONG RUNTIME\n",
    "deepChart = []\n",
    "team = []\n",
    "for i in range(len(rushing_pbp_coverage)):\n",
    "    inDeepChart = 0\n",
    "    team_tmp = 'team'\n",
    "    for j in deepChartOffense.columns:\n",
    "        for k in range(len(deepChartOffense)):\n",
    "            if rushing_pbp_coverage['playerName'][i] == deepChartOffense[j][k]:\n",
    "                inDeepChart += 1\n",
    "                team_tmp = j\n",
    "    if inDeepChart != 0:\n",
    "        deepChart.append(1)\n",
    "        team.append(team_tmp)\n",
    "    else:\n",
    "        deepChart.append(0)\n",
    "        team.append(\"\")\n",
    "rushing_pbp_coverage['deepChart'] = deepChart\n",
    "rushing_pbp_coverage['team'] = team\n",
    "rushing_pbp_coverage = rushing_pbp_coverage[rushing_pbp_coverage['deepChart'] == 1].reset_index(drop = True)\n"
   ]
  },
  {
   "cell_type": "code",
   "execution_count": null,
   "id": "a18deedc",
   "metadata": {},
   "outputs": [],
   "source": []
  },
  {
   "cell_type": "code",
   "execution_count": 1170,
   "id": "97f818d2",
   "metadata": {},
   "outputs": [],
   "source": [
    "# Group by block scheme\n",
    "\n",
    "count = 0\n",
    "for i in np.unique(rushing_pbp_coverage['playerName']):\n",
    "    playerData = rushing_pbp_coverage[rushing_pbp_coverage['playerName'] == i]\n",
    "    if count == 0:\n",
    "        group = playerData.groupby(by=[\"team\", \"playerName\",\"blockingSchemeType_descr\"]).sum()\n",
    "\n",
    "    else:\n",
    "        group = group.append(playerData.groupby(by=[\"team\", \"playerName\",\"blockingSchemeType_descr\"]).sum())\n",
    "    count += 1\n",
    "    \n",
    "group.reset_index(inplace=True)\n",
    "\n",
    "group['FP/Touch'] = group['FP_total']/group['touch']\n",
    "\n",
    "group_rushing_block = group[[\"team\", 'playerName','blockingSchemeType_descr','touch', 'FP_yards', 'FP_TD','FP_fumbleLost','FP_total','FP/Touch','plays']]\n",
    "\n"
   ]
  },
  {
   "cell_type": "code",
   "execution_count": 1171,
   "id": "f2c568bf",
   "metadata": {},
   "outputs": [],
   "source": [
    "#MINIMUM CONDITION\n",
    "group_rushing_block = group_rushing_block[group_rushing_block['touch'] > 5].reset_index(drop = True)"
   ]
  },
  {
   "cell_type": "code",
   "execution_count": 1172,
   "id": "36f25301",
   "metadata": {},
   "outputs": [],
   "source": [
    "# Calculte frequency\n",
    "\n",
    "totalPlayCountTable = group_rushing_block.groupby(by=[\"playerName\"]).sum()\n",
    "totalPlayCountTable.reset_index(inplace=True)\n",
    "totalPlayCountTable = totalPlayCountTable.rename(columns={\"plays\" : \"totalPlays\"})\n",
    "group_rushing_block = pd.merge(group_rushing_block, totalPlayCountTable[['playerName', 'totalPlays']], \n",
    "         left_on = ['playerName'], \n",
    "         right_on=['playerName'], how = 'left')\n",
    "group_rushing_block['freq'] = group_rushing_block['plays'] / group_rushing_block['totalPlays']\n"
   ]
  },
  {
   "cell_type": "code",
   "execution_count": null,
   "id": "c642cbda",
   "metadata": {},
   "outputs": [],
   "source": []
  },
  {
   "cell_type": "markdown",
   "id": "a488b9e7",
   "metadata": {},
   "source": [
    "<h5> Group by block schemes - defensive teams <h5>"
   ]
  },
  {
   "cell_type": "code",
   "execution_count": 1174,
   "id": "6e2f31b2",
   "metadata": {},
   "outputs": [],
   "source": [
    "# Merge with opponent teams\n",
    "\n",
    "rushing_pbp_coverage_OPP = pd.merge(rushing_pbp_coverage, preSnapDefenseTeam[['season', 'week', 'gameId','oppTeamId', 'nickName']], \n",
    "         left_on = ['season', 'week', 'gameId'], \n",
    "                          right_on=['season', 'week', 'gameId'], how = 'left')\n",
    "rushing_pbp_coverage_OPP = rushing_pbp_coverage_OPP[rushing_pbp_coverage_OPP['teamId'] != rushing_pbp_coverage_OPP['oppTeamId']].reset_index(drop = True)\n",
    "\n"
   ]
  },
  {
   "cell_type": "code",
   "execution_count": 526,
   "id": "d3550a3e",
   "metadata": {},
   "outputs": [],
   "source": [
    "#rushing_pbp_coverage_OPP.to_csv(\"NN_Data/Defense/rushing_pbp_OPP_081622.csv\")"
   ]
  },
  {
   "cell_type": "code",
   "execution_count": 1175,
   "id": "37260587",
   "metadata": {},
   "outputs": [],
   "source": [
    "# Group by all block scheme - defense\n",
    "\n",
    "count = 0\n",
    "for i in np.unique(rushing_pbp_coverage_OPP['nickName']):\n",
    "    playerData = rushing_pbp_coverage_OPP[rushing_pbp_coverage_OPP['nickName'] == i]\n",
    "    if count == 0:\n",
    "        group_def = playerData.groupby(by=[\"nickName\",\"blockingSchemeType_descr\"]).sum()\n",
    "\n",
    "    else:\n",
    "        group_def = group_def.append(playerData.groupby(by=[\"nickName\",\"blockingSchemeType_descr\"]).sum())\n",
    "    count += 1\n",
    "    \n",
    "group_def.reset_index(inplace=True)\n",
    "\n",
    "group_def['FP/Touch'] = group_def['FP_total']/group_def['touch']\n",
    "\n",
    "group_rushing_block_def = group_def[['nickName','blockingSchemeType_descr','touch', 'FP_yards', 'FP_TD','FP_fumbleLost','FP_total','FP/Touch', 'plays']]\n",
    "\n"
   ]
  },
  {
   "cell_type": "code",
   "execution_count": 1176,
   "id": "5b028358",
   "metadata": {},
   "outputs": [],
   "source": [
    "group_rushing_block_def = group_rushing_block_def[group_rushing_block_def['touch'] > 10].reset_index(drop = True)"
   ]
  },
  {
   "cell_type": "code",
   "execution_count": 1177,
   "id": "3e57b2c8",
   "metadata": {},
   "outputs": [],
   "source": [
    "# Calculte frequency\n",
    "\n",
    "totalPlayCountTable = group_rushing_block_def.groupby(by=[\"nickName\"]).sum()\n",
    "totalPlayCountTable.reset_index(inplace=True)\n",
    "totalPlayCountTable = totalPlayCountTable.rename(columns={\"plays\" : \"totalPlays\"})\n",
    "group_rushing_block_def = pd.merge(group_rushing_block_def, totalPlayCountTable[['nickName', 'totalPlays']], \n",
    "         left_on = ['nickName'], \n",
    "         right_on=['nickName'], how = 'left')\n",
    "group_rushing_block_def['freq'] = group_rushing_block_def['plays'] / group_rushing_block_def['totalPlays']\n"
   ]
  },
  {
   "cell_type": "code",
   "execution_count": 1182,
   "id": "00fa2860",
   "metadata": {},
   "outputs": [],
   "source": [
    "\n",
    "group_rushing_block.to_csv('Split/Rushing_BlockingScheme_2020_0817.csv', index = False)\n",
    "group_rushing_block_def.to_csv('Split/Rushing_Blocking_def_2020_0817.csv',  index = False)"
   ]
  },
  {
   "cell_type": "code",
   "execution_count": null,
   "id": "7bf85bc7",
   "metadata": {},
   "outputs": [],
   "source": []
  },
  {
   "cell_type": "markdown",
   "id": "1e833704",
   "metadata": {},
   "source": [
    "<h5> Group by block schemes - pooled <h5>"
   ]
  },
  {
   "cell_type": "code",
   "execution_count": 1184,
   "id": "07c537f9",
   "metadata": {},
   "outputs": [],
   "source": [
    "# Group by all block scheme\n",
    "\n",
    "count = 0\n",
    "for i in np.unique(rushing_pbp_coverage['playerName']):\n",
    "    playerData = rushing_pbp_coverage[rushing_pbp_coverage['playerName'] == i]\n",
    "    if count == 0:\n",
    "        group = playerData.groupby(by=[\"team\", \"playerName\",\"blockingSchemeType_pooled\"]).sum()\n",
    "\n",
    "    else:\n",
    "        group = group.append(playerData.groupby(by=[\"team\", \"playerName\",\"blockingSchemeType_pooled\"]).sum())\n",
    "    count += 1\n",
    "\n",
    "group.reset_index(inplace=True)\n",
    "\n",
    "group['FP/Touch'] = group['FP_total']/group['touch']\n",
    "\n",
    "group_rushing_block_pooled = group[[\"team\", 'playerName','blockingSchemeType_pooled','touch', 'FP_yards', 'FP_TD','FP_fumbleLost','FP_total','FP/Touch', 'plays']]\n"
   ]
  },
  {
   "cell_type": "code",
   "execution_count": 1185,
   "id": "353738bf",
   "metadata": {},
   "outputs": [],
   "source": [
    "group_rushing_block_pooled = group_rushing_block_pooled[group_rushing_block_pooled['touch'] > 5].reset_index(drop = True)\n",
    "\n"
   ]
  },
  {
   "cell_type": "code",
   "execution_count": 1186,
   "id": "b5137abd",
   "metadata": {},
   "outputs": [],
   "source": [
    "# Calculte frequency\n",
    "\n",
    "totalPlayCountTable = group_rushing_block_pooled.groupby(by=[\"playerName\"]).sum()\n",
    "totalPlayCountTable.reset_index(inplace=True)\n",
    "totalPlayCountTable = totalPlayCountTable.rename(columns={\"plays\" : \"totalPlays\"})\n",
    "group_rushing_block_pooled = pd.merge(group_rushing_block_pooled, totalPlayCountTable[['playerName', 'totalPlays']], \n",
    "         left_on = ['playerName'], \n",
    "         right_on=['playerName'], how = 'left')\n",
    "group_rushing_block_pooled['freq'] = group_rushing_block_pooled['plays'] / group_rushing_block_pooled['totalPlays']"
   ]
  },
  {
   "cell_type": "code",
   "execution_count": 1187,
   "id": "ac1f810b",
   "metadata": {},
   "outputs": [],
   "source": [
    "group_rushing_block_pooled.to_csv('Split/Rushing_BlockingScheme_pooled_2020_0817.csv', index = 'False')"
   ]
  },
  {
   "cell_type": "code",
   "execution_count": null,
   "id": "aabd0aa9",
   "metadata": {},
   "outputs": [],
   "source": []
  },
  {
   "cell_type": "markdown",
   "id": "1dd87a69",
   "metadata": {},
   "source": [
    "<h5> Group by block schemes defensive team - pooled <h5>"
   ]
  },
  {
   "cell_type": "code",
   "execution_count": 1190,
   "id": "7d33f540",
   "metadata": {},
   "outputs": [],
   "source": [
    "# Merge with opponent teams\n",
    "\n",
    "rushing_pbp_coverage_OPP_pooled = pd.merge(rushing_pbp_coverage, preSnapDefenseTeam[['season', 'week', 'gameId','oppTeamId', 'nickName']], \n",
    "         left_on = ['season', 'week', 'gameId'], \n",
    "                          right_on=['season', 'week', 'gameId'], how = 'left')\n",
    "rushing_pbp_coverage_OPP_pooled = rushing_pbp_coverage_OPP_pooled[rushing_pbp_coverage_OPP_pooled['teamId'] != rushing_pbp_coverage_OPP_pooled['oppTeamId']].reset_index(drop = True)\n",
    "\n",
    "\n"
   ]
  },
  {
   "cell_type": "code",
   "execution_count": null,
   "id": "ed1e8a77",
   "metadata": {},
   "outputs": [],
   "source": []
  },
  {
   "cell_type": "code",
   "execution_count": 1191,
   "id": "d53ef227",
   "metadata": {},
   "outputs": [],
   "source": [
    "# Group by all block scheme - defense\n",
    "\n",
    "count = 0\n",
    "for i in np.unique(rushing_pbp_coverage_OPP_pooled['nickName']):\n",
    "    playerData = rushing_pbp_coverage_OPP_pooled[rushing_pbp_coverage_OPP_pooled['nickName'] == i]\n",
    "    if count == 0:\n",
    "        group_def = playerData.groupby(by=[\"nickName\",\"blockingSchemeType_pooled\"]).sum()\n",
    "\n",
    "    else:\n",
    "        group_def = group_def.append(playerData.groupby(by=[\"nickName\",\"blockingSchemeType_pooled\"]).sum())\n",
    "    count += 1\n",
    "    \n",
    "group_def.reset_index(inplace=True)\n",
    "\n",
    "group_def['FP/Touch'] = group_def['FP_total']/group_def['touch']\n",
    "\n",
    "group_rushing_block_def_pooled = group_def[['nickName','blockingSchemeType_pooled','touch', 'FP_yards', 'FP_TD','FP_fumbleLost','FP_total','FP/Touch', 'plays']]\n",
    "\n"
   ]
  },
  {
   "cell_type": "code",
   "execution_count": 1192,
   "id": "b4e655f2",
   "metadata": {},
   "outputs": [],
   "source": [
    "# Calculte frequency\n",
    "\n",
    "totalPlayCountTable = group_rushing_block_def_pooled.groupby(by=[\"nickName\"]).sum()\n",
    "totalPlayCountTable.reset_index(inplace=True)\n",
    "totalPlayCountTable = totalPlayCountTable.rename(columns={\"plays\" : \"totalPlays\"})\n",
    "group_rushing_block_def_pooled = pd.merge(group_rushing_block_def_pooled, totalPlayCountTable[['nickName', 'totalPlays']], \n",
    "         left_on = ['nickName'], \n",
    "         right_on=['nickName'], how = 'left')\n",
    "group_rushing_block_def_pooled['freq'] = group_rushing_block_def_pooled['plays'] / group_rushing_block_def_pooled['totalPlays']\n"
   ]
  },
  {
   "cell_type": "code",
   "execution_count": null,
   "id": "5e569746",
   "metadata": {},
   "outputs": [],
   "source": []
  },
  {
   "cell_type": "code",
   "execution_count": 1193,
   "id": "0123a050",
   "metadata": {},
   "outputs": [],
   "source": [
    "group_rushing_block_def_pooled.to_csv('Split/Rushing_BlockingScheme_def_pooled_2020_0817.csv', index = 'False')"
   ]
  },
  {
   "cell_type": "code",
   "execution_count": null,
   "id": "79e24a4c",
   "metadata": {},
   "outputs": [],
   "source": []
  },
  {
   "cell_type": "code",
   "execution_count": 1194,
   "id": "2b75d442",
   "metadata": {},
   "outputs": [],
   "source": [
    "# Group by direction\n",
    "\n",
    "count = 0\n",
    "for i in np.unique(rushing_pbp_coverage['playerName']):\n",
    "    playerData = rushing_pbp_coverage[rushing_pbp_coverage['playerName'] == i]\n",
    "    if count == 0:\n",
    "        group = playerData.groupby(by=[\"team\", \"playerName\",\"RunDirection_descr\"]).sum()\n",
    "        \n",
    "    else:\n",
    "        group = group.append(playerData.groupby(by=[\"team\", \"playerName\",\"RunDirection_descr\"]).sum())\n",
    "    count += 1\n",
    "    \n",
    "group.reset_index(inplace=True)\n",
    "\n",
    "group['FP/Touch'] = group['FP_total']/group['touch']\n",
    "\n",
    "group_rushing_direction = group[[\"team\", 'playerName','RunDirection_descr','touch', 'FP_yards', 'FP_TD','FP_fumbleLost','FP_total','FP/Touch', 'plays']]\n"
   ]
  },
  {
   "cell_type": "code",
   "execution_count": 1196,
   "id": "684e527a",
   "metadata": {},
   "outputs": [],
   "source": [
    "#Minimum condition\n",
    "group_rushing_direction = group_rushing_direction[group_rushing_direction['touch'] > 5].reset_index(drop = True)"
   ]
  },
  {
   "cell_type": "code",
   "execution_count": 1197,
   "id": "3c3ced2c",
   "metadata": {},
   "outputs": [],
   "source": [
    "# Calculte frequency\n",
    "\n",
    "totalPlayCountTable = group_rushing_direction.groupby(by=[\"playerName\"]).sum()\n",
    "totalPlayCountTable.reset_index(inplace=True)\n",
    "totalPlayCountTable = totalPlayCountTable.rename(columns={\"plays\" : \"totalPlays\"})\n",
    "group_rushing_direction = pd.merge(group_rushing_direction, totalPlayCountTable[['playerName', 'totalPlays']], \n",
    "         left_on = ['playerName'], \n",
    "         right_on=['playerName'], how = 'left')\n",
    "group_rushing_direction['freq'] = group_rushing_direction['plays'] / group_rushing_direction['totalPlays']\n"
   ]
  },
  {
   "cell_type": "code",
   "execution_count": null,
   "id": "d0f31964",
   "metadata": {},
   "outputs": [],
   "source": []
  },
  {
   "cell_type": "code",
   "execution_count": 1198,
   "id": "ad77b618",
   "metadata": {},
   "outputs": [],
   "source": [
    "group_rushing_direction.to_csv('Split/Rushing_direction_2020_0817.csv', index = False)"
   ]
  },
  {
   "cell_type": "code",
   "execution_count": null,
   "id": "382f2fb8",
   "metadata": {},
   "outputs": [],
   "source": []
  },
  {
   "cell_type": "markdown",
   "id": "de2c6d73",
   "metadata": {},
   "source": [
    "<h5> Group by direction - defense <h5>"
   ]
  },
  {
   "cell_type": "code",
   "execution_count": 1199,
   "id": "64425818",
   "metadata": {},
   "outputs": [],
   "source": [
    "# Group by direction - defense\n",
    "\n",
    "count = 0\n",
    "for i in np.unique(rushing_pbp_coverage_OPP['nickName']):\n",
    "    playerData = rushing_pbp_coverage_OPP[rushing_pbp_coverage_OPP['nickName'] == i]\n",
    "    if count == 0:\n",
    "        group_def = playerData.groupby(by=[\"nickName\",\"RunDirection_descr\"]).sum()\n",
    "        \n",
    "    else:\n",
    "        group_def = group_def.append(playerData.groupby(by=[\"nickName\",\"RunDirection_descr\"]).sum())\n",
    "    count += 1\n",
    "    \n",
    "group_def.reset_index(inplace=True)\n",
    "\n",
    "group_def['FP/Touch'] = group_def['FP_total']/group_def['touch']\n",
    "\n",
    "group_rushing_direction_def = group_def[['nickName', 'touch','RunDirection_descr','FP_yards', 'FP_TD','FP_fumbleLost','FP_total','FP/Touch', 'plays']]\n"
   ]
  },
  {
   "cell_type": "code",
   "execution_count": 1200,
   "id": "4d3e3ebe",
   "metadata": {},
   "outputs": [],
   "source": [
    "group_rushing_direction_def = group_rushing_direction_def[group_rushing_direction_def['touch'] > 10].reset_index(drop = True)\n"
   ]
  },
  {
   "cell_type": "code",
   "execution_count": 1201,
   "id": "2ec21e8b",
   "metadata": {},
   "outputs": [],
   "source": [
    "# Calculte frequency\n",
    "\n",
    "totalPlayCountTable = group_rushing_direction_def.groupby(by=[\"nickName\"]).sum()\n",
    "totalPlayCountTable.reset_index(inplace=True)\n",
    "totalPlayCountTable = totalPlayCountTable.rename(columns={\"plays\" : \"totalPlays\"})\n",
    "group_rushing_direction_def = pd.merge(group_rushing_direction_def, totalPlayCountTable[['nickName', 'totalPlays']], \n",
    "         left_on = ['nickName'], \n",
    "         right_on=['nickName'], how = 'left')\n",
    "group_rushing_direction_def['freq'] = group_rushing_direction_def['plays'] / group_rushing_direction_def['totalPlays']\n"
   ]
  },
  {
   "cell_type": "code",
   "execution_count": 1202,
   "id": "5aa1b1c5",
   "metadata": {},
   "outputs": [],
   "source": [
    "group_rushing_direction_def.to_csv('Split/Rushing_Direction_def_2020_0817.csv')"
   ]
  },
  {
   "cell_type": "code",
   "execution_count": null,
   "id": "0330be02",
   "metadata": {},
   "outputs": [],
   "source": []
  },
  {
   "cell_type": "code",
   "execution_count": null,
   "id": "bfd6a01b",
   "metadata": {},
   "outputs": [],
   "source": []
  },
  {
   "cell_type": "code",
   "execution_count": null,
   "id": "ed25431f",
   "metadata": {},
   "outputs": [],
   "source": []
  },
  {
   "cell_type": "code",
   "execution_count": null,
   "id": "8b9c1c61",
   "metadata": {},
   "outputs": [],
   "source": []
  },
  {
   "cell_type": "code",
   "execution_count": null,
   "id": "3e924b7d",
   "metadata": {},
   "outputs": [],
   "source": []
  }
 ],
 "metadata": {
  "kernelspec": {
   "display_name": "Python 3",
   "language": "python",
   "name": "python3"
  },
  "language_info": {
   "codemirror_mode": {
    "name": "ipython",
    "version": 3
   },
   "file_extension": ".py",
   "mimetype": "text/x-python",
   "name": "python",
   "nbconvert_exporter": "python",
   "pygments_lexer": "ipython3",
   "version": "3.6.13"
  }
 },
 "nbformat": 4,
 "nbformat_minor": 5
}
